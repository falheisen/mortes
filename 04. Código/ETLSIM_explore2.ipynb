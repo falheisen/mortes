{
 "cells": [
  {
   "cell_type": "markdown",
   "metadata": {},
   "source": [
    "# Bibliotecas"
   ]
  },
  {
   "cell_type": "code",
   "execution_count": 1,
   "metadata": {},
   "outputs": [],
   "source": [
    "import pandas as pd\n",
    "import seaborn as sns\n",
    "import matplotlib.pyplot as plt\n",
    "import seaborn.objects as so\n",
    "\n",
    "from IPython.core.interactiveshell import InteractiveShell\n",
    "InteractiveShell.ast_node_interactivity = \"all\""
   ]
  },
  {
   "cell_type": "code",
   "execution_count": 7,
   "metadata": {},
   "outputs": [],
   "source": [
    "import os\n",
    "mycwd = os.getcwd()\n",
    "os.chdir(\"..\")\n",
    "os.chdir(mycwd)    "
   ]
  },
  {
   "cell_type": "code",
   "execution_count": 8,
   "metadata": {},
   "outputs": [
    {
     "data": {
      "text/plain": [
       "'c:\\\\Users\\\\filip\\\\Documents\\\\03. Poli\\\\01. Poli\\\\01. TCC\\\\04. Código'"
      ]
     },
     "execution_count": 8,
     "metadata": {},
     "output_type": "execute_result"
    }
   ],
   "source": [
    "os.getcwd()"
   ]
  },
  {
   "cell_type": "markdown",
   "metadata": {},
   "source": [
    "# Analisar tendências históricas"
   ]
  },
  {
   "cell_type": "code",
   "execution_count": 9,
   "metadata": {},
   "outputs": [],
   "source": [
    "start_year = 1996\n",
    "end_year = 2021\n",
    "years = [year for year in range(start_year, end_year + 1)]"
   ]
  },
  {
   "cell_type": "code",
   "execution_count": 10,
   "metadata": {},
   "outputs": [
    {
     "ename": "FileNotFoundError",
     "evalue": "[Errno 2] No such file or directory: 'ETLSIM/ETLSIM.DORES_SP_1996_t.csv'",
     "output_type": "error",
     "traceback": [
      "\u001b[1;31m---------------------------------------------------------------------------\u001b[0m",
      "\u001b[1;31mFileNotFoundError\u001b[0m                         Traceback (most recent call last)",
      "Cell \u001b[1;32mIn[10], line 4\u001b[0m\n\u001b[0;32m      1\u001b[0m dfs \u001b[39m=\u001b[39m {}\n\u001b[0;32m      3\u001b[0m \u001b[39mfor\u001b[39;00m year \u001b[39min\u001b[39;00m years:\n\u001b[1;32m----> 4\u001b[0m     dfs[year] \u001b[39m=\u001b[39m pd\u001b[39m.\u001b[39;49mread_csv(\u001b[39mf\u001b[39;49m\u001b[39m'\u001b[39;49m\u001b[39mETLSIM/ETLSIM.DORES_SP_\u001b[39;49m\u001b[39m{\u001b[39;49;00myear\u001b[39m}\u001b[39;49;00m\u001b[39m_t.csv\u001b[39;49m\u001b[39m'\u001b[39;49m)[[\u001b[39m'\u001b[39m\u001b[39mano_obito\u001b[39m\u001b[39m'\u001b[39m,\u001b[39m'\u001b[39m\u001b[39mcausabas_capitulo\u001b[39m\u001b[39m'\u001b[39m, \u001b[39m'\u001b[39m\u001b[39mdef_tipo_obito\u001b[39m\u001b[39m'\u001b[39m]]\n\u001b[0;32m      6\u001b[0m df \u001b[39m=\u001b[39m pd\u001b[39m.\u001b[39mconcat(dfs\u001b[39m.\u001b[39mvalues(), axis\u001b[39m=\u001b[39m\u001b[39m0\u001b[39m)\n\u001b[0;32m      7\u001b[0m \u001b[39mdel\u001b[39;00m dfs\n",
      "File \u001b[1;32mc:\\Users\\filip\\AppData\\Local\\Programs\\Python\\Python311\\Lib\\site-packages\\pandas\\util\\_decorators.py:211\u001b[0m, in \u001b[0;36mdeprecate_kwarg.<locals>._deprecate_kwarg.<locals>.wrapper\u001b[1;34m(*args, **kwargs)\u001b[0m\n\u001b[0;32m    209\u001b[0m     \u001b[39melse\u001b[39;00m:\n\u001b[0;32m    210\u001b[0m         kwargs[new_arg_name] \u001b[39m=\u001b[39m new_arg_value\n\u001b[1;32m--> 211\u001b[0m \u001b[39mreturn\u001b[39;00m func(\u001b[39m*\u001b[39;49margs, \u001b[39m*\u001b[39;49m\u001b[39m*\u001b[39;49mkwargs)\n",
      "File \u001b[1;32mc:\\Users\\filip\\AppData\\Local\\Programs\\Python\\Python311\\Lib\\site-packages\\pandas\\util\\_decorators.py:331\u001b[0m, in \u001b[0;36mdeprecate_nonkeyword_arguments.<locals>.decorate.<locals>.wrapper\u001b[1;34m(*args, **kwargs)\u001b[0m\n\u001b[0;32m    325\u001b[0m \u001b[39mif\u001b[39;00m \u001b[39mlen\u001b[39m(args) \u001b[39m>\u001b[39m num_allow_args:\n\u001b[0;32m    326\u001b[0m     warnings\u001b[39m.\u001b[39mwarn(\n\u001b[0;32m    327\u001b[0m         msg\u001b[39m.\u001b[39mformat(arguments\u001b[39m=\u001b[39m_format_argument_list(allow_args)),\n\u001b[0;32m    328\u001b[0m         \u001b[39mFutureWarning\u001b[39;00m,\n\u001b[0;32m    329\u001b[0m         stacklevel\u001b[39m=\u001b[39mfind_stack_level(),\n\u001b[0;32m    330\u001b[0m     )\n\u001b[1;32m--> 331\u001b[0m \u001b[39mreturn\u001b[39;00m func(\u001b[39m*\u001b[39;49margs, \u001b[39m*\u001b[39;49m\u001b[39m*\u001b[39;49mkwargs)\n",
      "File \u001b[1;32mc:\\Users\\filip\\AppData\\Local\\Programs\\Python\\Python311\\Lib\\site-packages\\pandas\\io\\parsers\\readers.py:950\u001b[0m, in \u001b[0;36mread_csv\u001b[1;34m(filepath_or_buffer, sep, delimiter, header, names, index_col, usecols, squeeze, prefix, mangle_dupe_cols, dtype, engine, converters, true_values, false_values, skipinitialspace, skiprows, skipfooter, nrows, na_values, keep_default_na, na_filter, verbose, skip_blank_lines, parse_dates, infer_datetime_format, keep_date_col, date_parser, dayfirst, cache_dates, iterator, chunksize, compression, thousands, decimal, lineterminator, quotechar, quoting, doublequote, escapechar, comment, encoding, encoding_errors, dialect, error_bad_lines, warn_bad_lines, on_bad_lines, delim_whitespace, low_memory, memory_map, float_precision, storage_options)\u001b[0m\n\u001b[0;32m    935\u001b[0m kwds_defaults \u001b[39m=\u001b[39m _refine_defaults_read(\n\u001b[0;32m    936\u001b[0m     dialect,\n\u001b[0;32m    937\u001b[0m     delimiter,\n\u001b[1;32m   (...)\u001b[0m\n\u001b[0;32m    946\u001b[0m     defaults\u001b[39m=\u001b[39m{\u001b[39m\"\u001b[39m\u001b[39mdelimiter\u001b[39m\u001b[39m\"\u001b[39m: \u001b[39m\"\u001b[39m\u001b[39m,\u001b[39m\u001b[39m\"\u001b[39m},\n\u001b[0;32m    947\u001b[0m )\n\u001b[0;32m    948\u001b[0m kwds\u001b[39m.\u001b[39mupdate(kwds_defaults)\n\u001b[1;32m--> 950\u001b[0m \u001b[39mreturn\u001b[39;00m _read(filepath_or_buffer, kwds)\n",
      "File \u001b[1;32mc:\\Users\\filip\\AppData\\Local\\Programs\\Python\\Python311\\Lib\\site-packages\\pandas\\io\\parsers\\readers.py:605\u001b[0m, in \u001b[0;36m_read\u001b[1;34m(filepath_or_buffer, kwds)\u001b[0m\n\u001b[0;32m    602\u001b[0m _validate_names(kwds\u001b[39m.\u001b[39mget(\u001b[39m\"\u001b[39m\u001b[39mnames\u001b[39m\u001b[39m\"\u001b[39m, \u001b[39mNone\u001b[39;00m))\n\u001b[0;32m    604\u001b[0m \u001b[39m# Create the parser.\u001b[39;00m\n\u001b[1;32m--> 605\u001b[0m parser \u001b[39m=\u001b[39m TextFileReader(filepath_or_buffer, \u001b[39m*\u001b[39;49m\u001b[39m*\u001b[39;49mkwds)\n\u001b[0;32m    607\u001b[0m \u001b[39mif\u001b[39;00m chunksize \u001b[39mor\u001b[39;00m iterator:\n\u001b[0;32m    608\u001b[0m     \u001b[39mreturn\u001b[39;00m parser\n",
      "File \u001b[1;32mc:\\Users\\filip\\AppData\\Local\\Programs\\Python\\Python311\\Lib\\site-packages\\pandas\\io\\parsers\\readers.py:1442\u001b[0m, in \u001b[0;36mTextFileReader.__init__\u001b[1;34m(self, f, engine, **kwds)\u001b[0m\n\u001b[0;32m   1439\u001b[0m     \u001b[39mself\u001b[39m\u001b[39m.\u001b[39moptions[\u001b[39m\"\u001b[39m\u001b[39mhas_index_names\u001b[39m\u001b[39m\"\u001b[39m] \u001b[39m=\u001b[39m kwds[\u001b[39m\"\u001b[39m\u001b[39mhas_index_names\u001b[39m\u001b[39m\"\u001b[39m]\n\u001b[0;32m   1441\u001b[0m \u001b[39mself\u001b[39m\u001b[39m.\u001b[39mhandles: IOHandles \u001b[39m|\u001b[39m \u001b[39mNone\u001b[39;00m \u001b[39m=\u001b[39m \u001b[39mNone\u001b[39;00m\n\u001b[1;32m-> 1442\u001b[0m \u001b[39mself\u001b[39m\u001b[39m.\u001b[39m_engine \u001b[39m=\u001b[39m \u001b[39mself\u001b[39;49m\u001b[39m.\u001b[39;49m_make_engine(f, \u001b[39mself\u001b[39;49m\u001b[39m.\u001b[39;49mengine)\n",
      "File \u001b[1;32mc:\\Users\\filip\\AppData\\Local\\Programs\\Python\\Python311\\Lib\\site-packages\\pandas\\io\\parsers\\readers.py:1735\u001b[0m, in \u001b[0;36mTextFileReader._make_engine\u001b[1;34m(self, f, engine)\u001b[0m\n\u001b[0;32m   1733\u001b[0m     \u001b[39mif\u001b[39;00m \u001b[39m\"\u001b[39m\u001b[39mb\u001b[39m\u001b[39m\"\u001b[39m \u001b[39mnot\u001b[39;00m \u001b[39min\u001b[39;00m mode:\n\u001b[0;32m   1734\u001b[0m         mode \u001b[39m+\u001b[39m\u001b[39m=\u001b[39m \u001b[39m\"\u001b[39m\u001b[39mb\u001b[39m\u001b[39m\"\u001b[39m\n\u001b[1;32m-> 1735\u001b[0m \u001b[39mself\u001b[39m\u001b[39m.\u001b[39mhandles \u001b[39m=\u001b[39m get_handle(\n\u001b[0;32m   1736\u001b[0m     f,\n\u001b[0;32m   1737\u001b[0m     mode,\n\u001b[0;32m   1738\u001b[0m     encoding\u001b[39m=\u001b[39;49m\u001b[39mself\u001b[39;49m\u001b[39m.\u001b[39;49moptions\u001b[39m.\u001b[39;49mget(\u001b[39m\"\u001b[39;49m\u001b[39mencoding\u001b[39;49m\u001b[39m\"\u001b[39;49m, \u001b[39mNone\u001b[39;49;00m),\n\u001b[0;32m   1739\u001b[0m     compression\u001b[39m=\u001b[39;49m\u001b[39mself\u001b[39;49m\u001b[39m.\u001b[39;49moptions\u001b[39m.\u001b[39;49mget(\u001b[39m\"\u001b[39;49m\u001b[39mcompression\u001b[39;49m\u001b[39m\"\u001b[39;49m, \u001b[39mNone\u001b[39;49;00m),\n\u001b[0;32m   1740\u001b[0m     memory_map\u001b[39m=\u001b[39;49m\u001b[39mself\u001b[39;49m\u001b[39m.\u001b[39;49moptions\u001b[39m.\u001b[39;49mget(\u001b[39m\"\u001b[39;49m\u001b[39mmemory_map\u001b[39;49m\u001b[39m\"\u001b[39;49m, \u001b[39mFalse\u001b[39;49;00m),\n\u001b[0;32m   1741\u001b[0m     is_text\u001b[39m=\u001b[39;49mis_text,\n\u001b[0;32m   1742\u001b[0m     errors\u001b[39m=\u001b[39;49m\u001b[39mself\u001b[39;49m\u001b[39m.\u001b[39;49moptions\u001b[39m.\u001b[39;49mget(\u001b[39m\"\u001b[39;49m\u001b[39mencoding_errors\u001b[39;49m\u001b[39m\"\u001b[39;49m, \u001b[39m\"\u001b[39;49m\u001b[39mstrict\u001b[39;49m\u001b[39m\"\u001b[39;49m),\n\u001b[0;32m   1743\u001b[0m     storage_options\u001b[39m=\u001b[39;49m\u001b[39mself\u001b[39;49m\u001b[39m.\u001b[39;49moptions\u001b[39m.\u001b[39;49mget(\u001b[39m\"\u001b[39;49m\u001b[39mstorage_options\u001b[39;49m\u001b[39m\"\u001b[39;49m, \u001b[39mNone\u001b[39;49;00m),\n\u001b[0;32m   1744\u001b[0m )\n\u001b[0;32m   1745\u001b[0m \u001b[39massert\u001b[39;00m \u001b[39mself\u001b[39m\u001b[39m.\u001b[39mhandles \u001b[39mis\u001b[39;00m \u001b[39mnot\u001b[39;00m \u001b[39mNone\u001b[39;00m\n\u001b[0;32m   1746\u001b[0m f \u001b[39m=\u001b[39m \u001b[39mself\u001b[39m\u001b[39m.\u001b[39mhandles\u001b[39m.\u001b[39mhandle\n",
      "File \u001b[1;32mc:\\Users\\filip\\AppData\\Local\\Programs\\Python\\Python311\\Lib\\site-packages\\pandas\\io\\common.py:856\u001b[0m, in \u001b[0;36mget_handle\u001b[1;34m(path_or_buf, mode, encoding, compression, memory_map, is_text, errors, storage_options)\u001b[0m\n\u001b[0;32m    851\u001b[0m \u001b[39melif\u001b[39;00m \u001b[39misinstance\u001b[39m(handle, \u001b[39mstr\u001b[39m):\n\u001b[0;32m    852\u001b[0m     \u001b[39m# Check whether the filename is to be opened in binary mode.\u001b[39;00m\n\u001b[0;32m    853\u001b[0m     \u001b[39m# Binary mode does not support 'encoding' and 'newline'.\u001b[39;00m\n\u001b[0;32m    854\u001b[0m     \u001b[39mif\u001b[39;00m ioargs\u001b[39m.\u001b[39mencoding \u001b[39mand\u001b[39;00m \u001b[39m\"\u001b[39m\u001b[39mb\u001b[39m\u001b[39m\"\u001b[39m \u001b[39mnot\u001b[39;00m \u001b[39min\u001b[39;00m ioargs\u001b[39m.\u001b[39mmode:\n\u001b[0;32m    855\u001b[0m         \u001b[39m# Encoding\u001b[39;00m\n\u001b[1;32m--> 856\u001b[0m         handle \u001b[39m=\u001b[39m \u001b[39mopen\u001b[39;49m(\n\u001b[0;32m    857\u001b[0m             handle,\n\u001b[0;32m    858\u001b[0m             ioargs\u001b[39m.\u001b[39;49mmode,\n\u001b[0;32m    859\u001b[0m             encoding\u001b[39m=\u001b[39;49mioargs\u001b[39m.\u001b[39;49mencoding,\n\u001b[0;32m    860\u001b[0m             errors\u001b[39m=\u001b[39;49merrors,\n\u001b[0;32m    861\u001b[0m             newline\u001b[39m=\u001b[39;49m\u001b[39m\"\u001b[39;49m\u001b[39m\"\u001b[39;49m,\n\u001b[0;32m    862\u001b[0m         )\n\u001b[0;32m    863\u001b[0m     \u001b[39melse\u001b[39;00m:\n\u001b[0;32m    864\u001b[0m         \u001b[39m# Binary mode\u001b[39;00m\n\u001b[0;32m    865\u001b[0m         handle \u001b[39m=\u001b[39m \u001b[39mopen\u001b[39m(handle, ioargs\u001b[39m.\u001b[39mmode)\n",
      "\u001b[1;31mFileNotFoundError\u001b[0m: [Errno 2] No such file or directory: 'ETLSIM/ETLSIM.DORES_SP_1996_t.csv'"
     ]
    }
   ],
   "source": [
    "dfs = {}\n",
    "\n",
    "for year in years:\n",
    "    dfs[year] = pd.read_csv(f'ETLSIM/ETLSIM.DORES_SP_{year}_t.csv')[['ano_obito','causabas_capitulo', 'def_tipo_obito']]\n",
    "\n",
    "df = pd.concat(dfs.values(), axis=0)\n",
    "del dfs\n",
    "# df = df[['ano_obito','causabas_capitulo']]"
   ]
  },
  {
   "cell_type": "code",
   "execution_count": 13,
   "metadata": {},
   "outputs": [],
   "source": [
    "df_aux = df[['ano_obito','causabas_capitulo']]\n",
    "df_groupby = df_aux.groupby('ano_obito').size() "
   ]
  },
  {
   "cell_type": "code",
   "execution_count": 14,
   "metadata": {},
   "outputs": [
    {
     "data": {
      "text/plain": [
       "<BarContainer object of 26 artists>"
      ]
     },
     "execution_count": 14,
     "metadata": {},
     "output_type": "execute_result"
    },
    {
     "data": {
      "text/plain": [
       "Text(0.5, 0, 'Ano')"
      ]
     },
     "execution_count": 14,
     "metadata": {},
     "output_type": "execute_result"
    },
    {
     "data": {
      "text/plain": [
       "Text(0, 0.5, 'Óbitos [em milhares]')"
      ]
     },
     "execution_count": 14,
     "metadata": {},
     "output_type": "execute_result"
    },
    {
     "data": {
      "text/plain": [
       "Text(0.5, 1.0, 'Número de falecidos por ano (SP)')"
      ]
     },
     "execution_count": 14,
     "metadata": {},
     "output_type": "execute_result"
    },
    {
     "data": {
      "text/plain": [
       "(array([1990., 1995., 2000., 2005., 2010., 2015., 2020., 2025.]),\n",
       " [Text(1990.0, 0, '1990'),\n",
       "  Text(1995.0, 0, '1995'),\n",
       "  Text(2000.0, 0, '2000'),\n",
       "  Text(2005.0, 0, '2005'),\n",
       "  Text(2010.0, 0, '2010'),\n",
       "  Text(2015.0, 0, '2015'),\n",
       "  Text(2020.0, 0, '2020'),\n",
       "  Text(2025.0, 0, '2025')])"
      ]
     },
     "execution_count": 14,
     "metadata": {},
     "output_type": "execute_result"
    },
    {
     "data": {
      "text/plain": [
       "(array([  0., 100., 200., 300., 400., 500.]),\n",
       " [Text(0, 0.0, '0'),\n",
       "  Text(0, 100.0, '100'),\n",
       "  Text(0, 200.0, '200'),\n",
       "  Text(0, 300.0, '300'),\n",
       "  Text(0, 400.0, '400'),\n",
       "  Text(0, 500.0, '500')])"
      ]
     },
     "execution_count": 14,
     "metadata": {},
     "output_type": "execute_result"
    },
    {
     "data": {
      "image/png": "[encoded data removed]",
      "text/plain": [
       "<Figure size 640x480 with 1 Axes>"
      ]
     },
     "metadata": {},
     "output_type": "display_data"
    }
   ],
   "source": [
    "hfont = {'fontname':'Helvetica','fontsize':10,'weight':'bold', 'horizontalalignment':'left'}\n",
    "lfont = {'fontname':'Helvetica','fontsize':8,'weight':'bold'}\n",
    "tfont = {'fontname':'Helvetica','fontsize':8,'weight':'regular'}\n",
    "\n",
    "fig, ax = plt.subplots()\n",
    "ax.bar(df_groupby.index, df_groupby.values / 1000)\n",
    "\n",
    "plt.xlabel('Ano', **lfont)\n",
    "plt.ylabel('Óbitos [em milhares]', **lfont)\n",
    "plt.title('Número de falecidos por ano (SP)', **hfont, ha='right', va='bottom')\n",
    "plt.xticks(**tfont)  \n",
    "plt.yticks(**tfont)  \n",
    "\n",
    "plt.show()\n",
    "plt.close()"
   ]
  },
  {
   "cell_type": "code",
   "execution_count": 18,
   "metadata": {},
   "outputs": [
    {
     "name": "stdout",
     "output_type": "stream",
     "text": [
      "anyio==3.6.2\n",
      "argon2-cffi==21.3.0\n",
      "argon2-cffi-bindings==21.2.0\n",
      "argparse-addons==0.12.0\n",
      "asttokens==2.2.0\n",
      "attrs==22.1.0\n",
      "autocommand==2.2.2\n",
      "backcall==0.2.0\n",
      "backports.csv==1.0.7\n",
      "beautifulsoup4==4.11.1\n",
      "bitstruct==8.17.0\n",
      "bleach==5.0.1\n",
      "cantools==39.2.0\n",
      "certifi==2022.12.7\n",
      "cffi==1.15.1\n",
      "charset-normalizer==3.0.1\n",
      "cheroot==9.0.0\n",
      "CherryPy==18.8.0\n",
      "click==8.1.3\n",
      "colorama==0.4.6\n",
      "contourpy==1.0.7\n",
      "crccheck==1.3.0\n",
      "cryptography==39.0.0\n",
      "cycler==0.11.0\n",
      "Cython==0.29.32\n",
      "dbcpy==1.0.4\n",
      "debugpy==1.6.4\n",
      "decorator==5.1.1\n",
      "defusedxml==0.7.1\n",
      "diskcache==5.6.1\n",
      "entrypoints==0.4\n",
      "executing==1.2.0\n",
      "fastjsonschema==2.16.2\n",
      "feedparser==6.0.10\n",
      "fonttools==4.38.0\n",
      "fst-pso==1.8.1\n",
      "future==0.18.3\n",
      "FuzzyTM==2.0.5\n",
      "gensim==4.3.0\n",
      "idna==3.4\n",
      "inflect==6.0.2\n",
      "ipykernel==6.17.1\n",
      "ipython==8.7.0\n",
      "ipython-genutils==0.2.0\n",
      "ipywidgets==8.0.2\n",
      "jaraco.classes==3.2.3\n",
      "jaraco.collections==3.8.0\n",
      "jaraco.context==4.3.0\n",
      "jaraco.functools==3.5.2\n",
      "jaraco.text==3.11.1\n",
      "jedi==0.18.2\n",
      "Jinja2==3.1.2\n",
      "joblib==1.2.0\n",
      "jsonschema==4.17.3\n",
      "jupyter==1.0.0\n",
      "jupyter-console==6.4.4\n",
      "jupyter-server==1.23.3\n",
      "jupyter_client==7.4.7\n",
      "jupyter_core==5.1.0\n",
      "jupyterlab-pygments==0.2.2\n",
      "jupyterlab-widgets==3.0.3\n",
      "kiwisolver==1.4.4\n",
      "Levenshtein==0.20.9\n",
      "lxml==4.9.2\n",
      "MarkupSafe==2.1.1\n",
      "matplotlib==3.6.3\n",
      "matplotlib-inline==0.1.6\n",
      "miniful==0.0.6\n",
      "mistune==2.0.4\n",
      "more-itertools==9.0.0\n",
      "mrjob==0.7.4\n",
      "mysqlclient==2.1.1\n",
      "nbclassic==0.4.8\n",
      "nbclient==0.7.2\n",
      "nbconvert==7.2.5\n",
      "nbformat==5.7.0\n",
      "nest-asyncio==1.5.6\n",
      "nltk==3.8.1\n",
      "notebook==6.5.2\n",
      "notebook_shim==0.2.2\n",
      "numpy==1.23.5\n",
      "packaging==21.3\n",
      "pandas==1.5.2\n",
      "pandocfilters==1.5.0\n",
      "parso==0.8.3\n",
      "patsy==0.5.3\n",
      "Pattern==3.6\n",
      "pdfminer.six==20221105\n",
      "pickleshare==0.7.5\n",
      "Pillow==9.4.0\n",
      "platformdirs==2.5.4\n",
      "plotly==5.15.0\n",
      "portend==3.1.0\n",
      "prometheus-client==0.15.0\n",
      "prompt-toolkit==3.0.33\n",
      "psutil==5.9.4\n",
      "pure-eval==0.2.2\n",
      "py4j==0.10.9.5\n",
      "pycparser==2.21\n",
      "pydantic==1.10.4\n",
      "pyFUME==0.2.25\n",
      "Pygments==2.13.0\n",
      "pyparsing==3.0.9\n",
      "pyrsistent==0.19.2\n",
      "pyspark==3.3.2\n",
      "python-can==4.2.2\n",
      "python-dateutil==2.8.2\n",
      "python-docx==0.8.11\n",
      "pytz==2022.6\n",
      "pywin32==305\n",
      "pywinpty==2.0.9\n",
      "PyYAML==6.0\n",
      "pyzmq==24.0.1\n",
      "qtconsole==5.4.0\n",
      "QtPy==2.3.0\n",
      "rapidfuzz==2.13.7\n",
      "regex==2022.10.31\n",
      "requests==2.28.2\n",
      "Runner==1.1\n",
      "scikit-learn==1.2.0\n",
      "scipy==1.10.0\n",
      "seaborn==0.12.2\n",
      "Send2Trash==1.8.0\n",
      "sgmllib3k==1.0.0\n",
      "simpful==2.10.0\n",
      "six==1.16.0\n",
      "sklearn==0.0.post1\n",
      "smart-open==6.3.0\n",
      "sniffio==1.3.0\n",
      "soupsieve==2.3.2.post1\n",
      "stack-data==0.6.2\n",
      "statsmodels==0.14.0\n",
      "tempora==5.2.1\n",
      "tenacity==8.2.2\n",
      "terminado==0.17.0\n",
      "textblob==0.17.1\n",
      "textparser==0.24.0\n",
      "threadpoolctl==3.1.0\n",
      "tinycss2==1.2.1\n",
      "tornado==6.2\n",
      "tqdm==4.64.1\n",
      "traitlets==5.6.0\n",
      "typing_extensions==4.4.0\n",
      "urllib3==1.26.14\n",
      "wcwidth==0.2.5\n",
      "webencodings==0.5.1\n",
      "websocket-client==1.4.2\n",
      "widgetsnbextension==4.0.3\n",
      "wrapt==1.15.0\n",
      "zc.lockfile==2.0\n",
      "Note: you may need to restart the kernel to use updated packages.\n"
     ]
    }
   ],
   "source": [
    "pip freeze"
   ]
  },
  {
   "cell_type": "code",
   "execution_count": 17,
   "metadata": {},
   "outputs": [
    {
     "ename": "ModuleNotFoundError",
     "evalue": "No module named 'basedosdados'",
     "output_type": "error",
     "traceback": [
      "\u001b[1;31m---------------------------------------------------------------------------\u001b[0m",
      "\u001b[1;31mModuleNotFoundError\u001b[0m                       Traceback (most recent call last)",
      "Cell \u001b[1;32mIn[17], line 1\u001b[0m\n\u001b[1;32m----> 1\u001b[0m \u001b[39mimport\u001b[39;00m \u001b[39mbasedosdados\u001b[39;00m \u001b[39mas\u001b[39;00m \u001b[39mbd\u001b[39;00m\n\u001b[0;32m      3\u001b[0m \u001b[39m# Para carregar o dado direto no pandas\u001b[39;00m\n\u001b[0;32m      4\u001b[0m df \u001b[39m=\u001b[39m bd\u001b[39m.\u001b[39mread_table(dataset_id\u001b[39m=\u001b[39m\u001b[39m'\u001b[39m\u001b[39mbr_ibge_populacao\u001b[39m\u001b[39m'\u001b[39m,\n\u001b[0;32m      5\u001b[0m table_id\u001b[39m=\u001b[39m\u001b[39m'\u001b[39m\u001b[39muf\u001b[39m\u001b[39m'\u001b[39m,\n\u001b[0;32m      6\u001b[0m billing_project_id\u001b[39m=\u001b[39m\u001b[39m\"\u001b[39m\u001b[39m<YOUR_PROJECT_ID>\u001b[39m\u001b[39m\"\u001b[39m)\n",
      "\u001b[1;31mModuleNotFoundError\u001b[0m: No module named 'basedosdados'"
     ]
    }
   ],
   "source": [
    "import basedosdados as bd\n",
    "\n",
    "# Para carregar o dado direto no pandas\n",
    "df = bd.read_table(dataset_id='br_ibge_populacao',\n",
    "table_id='uf',\n",
    "billing_project_id=\"<YOUR_PROJECT_ID>\")"
   ]
  },
  {
   "cell_type": "code",
   "execution_count": 132,
   "metadata": {},
   "outputs": [
    {
     "ename": "KeyboardInterrupt",
     "evalue": "",
     "output_type": "error",
     "traceback": [
      "\u001b[1;31m---------------------------------------------------------------------------\u001b[0m",
      "\u001b[1;31mKeyboardInterrupt\u001b[0m                         Traceback (most recent call last)",
      "Cell \u001b[1;32mIn[132], line 1\u001b[0m\n\u001b[1;32m----> 1\u001b[0m (\n\u001b[0;32m      2\u001b[0m   so\u001b[39m.\u001b[39mPlot(df, x\u001b[39m=\u001b[39m\u001b[39m\"\u001b[39m\u001b[39mano_obito\u001b[39m\u001b[39m\"\u001b[39m, y\u001b[39m=\u001b[39m\u001b[39m\"\u001b[39m\u001b[39mcausabas_capitulo\u001b[39m\u001b[39m\"\u001b[39m, color\u001b[39m=\u001b[39m\u001b[39m\"\u001b[39m\u001b[39mcausabas_capitulo\u001b[39m\u001b[39m\"\u001b[39m)\n\u001b[0;32m      3\u001b[0m   \u001b[39m.\u001b[39madd(so\u001b[39m.\u001b[39mArea(), so\u001b[39m.\u001b[39mAgg(\u001b[39m\"\u001b[39m\u001b[39mcount\u001b[39m\u001b[39m\"\u001b[39m), so\u001b[39m.\u001b[39mNorm(func\u001b[39m=\u001b[39m\u001b[39m\"\u001b[39m\u001b[39mcount\u001b[39m\u001b[39m\"\u001b[39m), so\u001b[39m.\u001b[39mStack())\n\u001b[0;32m      4\u001b[0m )\n",
      "File \u001b[1;32m~\\AppData\\Roaming\\Python\\Python311\\site-packages\\IPython\\core\\displayhook.py:262\u001b[0m, in \u001b[0;36mDisplayHook.__call__\u001b[1;34m(self, result)\u001b[0m\n\u001b[0;32m    260\u001b[0m \u001b[39mself\u001b[39m\u001b[39m.\u001b[39mstart_displayhook()\n\u001b[0;32m    261\u001b[0m \u001b[39mself\u001b[39m\u001b[39m.\u001b[39mwrite_output_prompt()\n\u001b[1;32m--> 262\u001b[0m format_dict, md_dict \u001b[39m=\u001b[39m \u001b[39mself\u001b[39;49m\u001b[39m.\u001b[39;49mcompute_format_data(result)\n\u001b[0;32m    263\u001b[0m \u001b[39mself\u001b[39m\u001b[39m.\u001b[39mupdate_user_ns(result)\n\u001b[0;32m    264\u001b[0m \u001b[39mself\u001b[39m\u001b[39m.\u001b[39mfill_exec_result(result)\n",
      "File \u001b[1;32m~\\AppData\\Roaming\\Python\\Python311\\site-packages\\IPython\\core\\displayhook.py:151\u001b[0m, in \u001b[0;36mDisplayHook.compute_format_data\u001b[1;34m(self, result)\u001b[0m\n\u001b[0;32m    121\u001b[0m \u001b[39mdef\u001b[39;00m \u001b[39mcompute_format_data\u001b[39m(\u001b[39mself\u001b[39m, result):\n\u001b[0;32m    122\u001b[0m     \u001b[39m\"\"\"Compute format data of the object to be displayed.\u001b[39;00m\n\u001b[0;32m    123\u001b[0m \n\u001b[0;32m    124\u001b[0m \u001b[39m    The format data is a generalization of the :func:`repr` of an object.\u001b[39;00m\n\u001b[1;32m   (...)\u001b[0m\n\u001b[0;32m    149\u001b[0m \n\u001b[0;32m    150\u001b[0m \u001b[39m    \"\"\"\u001b[39;00m\n\u001b[1;32m--> 151\u001b[0m     \u001b[39mreturn\u001b[39;00m \u001b[39mself\u001b[39;49m\u001b[39m.\u001b[39;49mshell\u001b[39m.\u001b[39;49mdisplay_formatter\u001b[39m.\u001b[39;49mformat(result)\n",
      "File \u001b[1;32m~\\AppData\\Roaming\\Python\\Python311\\site-packages\\IPython\\core\\formatters.py:177\u001b[0m, in \u001b[0;36mDisplayFormatter.format\u001b[1;34m(self, obj, include, exclude)\u001b[0m\n\u001b[0;32m    175\u001b[0m md \u001b[39m=\u001b[39m \u001b[39mNone\u001b[39;00m\n\u001b[0;32m    176\u001b[0m \u001b[39mtry\u001b[39;00m:\n\u001b[1;32m--> 177\u001b[0m     data \u001b[39m=\u001b[39m formatter(obj)\n\u001b[0;32m    178\u001b[0m \u001b[39mexcept\u001b[39;00m:\n\u001b[0;32m    179\u001b[0m     \u001b[39m# FIXME: log the exception\u001b[39;00m\n\u001b[0;32m    180\u001b[0m     \u001b[39mraise\u001b[39;00m\n",
      "File \u001b[1;32m~\\AppData\\Roaming\\Python\\Python311\\site-packages\\decorator.py:232\u001b[0m, in \u001b[0;36mdecorate.<locals>.fun\u001b[1;34m(*args, **kw)\u001b[0m\n\u001b[0;32m    230\u001b[0m \u001b[39mif\u001b[39;00m \u001b[39mnot\u001b[39;00m kwsyntax:\n\u001b[0;32m    231\u001b[0m     args, kw \u001b[39m=\u001b[39m fix(args, kw, sig)\n\u001b[1;32m--> 232\u001b[0m \u001b[39mreturn\u001b[39;00m caller(func, \u001b[39m*\u001b[39;49m(extras \u001b[39m+\u001b[39;49m args), \u001b[39m*\u001b[39;49m\u001b[39m*\u001b[39;49mkw)\n",
      "File \u001b[1;32m~\\AppData\\Roaming\\Python\\Python311\\site-packages\\IPython\\core\\formatters.py:221\u001b[0m, in \u001b[0;36mcatch_format_error\u001b[1;34m(method, self, *args, **kwargs)\u001b[0m\n\u001b[0;32m    219\u001b[0m \u001b[39m\"\"\"show traceback on failed format call\"\"\"\u001b[39;00m\n\u001b[0;32m    220\u001b[0m \u001b[39mtry\u001b[39;00m:\n\u001b[1;32m--> 221\u001b[0m     r \u001b[39m=\u001b[39m method(\u001b[39mself\u001b[39;49m, \u001b[39m*\u001b[39;49margs, \u001b[39m*\u001b[39;49m\u001b[39m*\u001b[39;49mkwargs)\n\u001b[0;32m    222\u001b[0m \u001b[39mexcept\u001b[39;00m \u001b[39mNotImplementedError\u001b[39;00m:\n\u001b[0;32m    223\u001b[0m     \u001b[39m# don't warn on NotImplementedErrors\u001b[39;00m\n\u001b[0;32m    224\u001b[0m     \u001b[39mreturn\u001b[39;00m \u001b[39mself\u001b[39m\u001b[39m.\u001b[39m_check_return(\u001b[39mNone\u001b[39;00m, args[\u001b[39m0\u001b[39m])\n",
      "File \u001b[1;32m~\\AppData\\Roaming\\Python\\Python311\\site-packages\\IPython\\core\\formatters.py:342\u001b[0m, in \u001b[0;36mBaseFormatter.__call__\u001b[1;34m(self, obj)\u001b[0m\n\u001b[0;32m    340\u001b[0m     method \u001b[39m=\u001b[39m get_real_method(obj, \u001b[39mself\u001b[39m\u001b[39m.\u001b[39mprint_method)\n\u001b[0;32m    341\u001b[0m     \u001b[39mif\u001b[39;00m method \u001b[39mis\u001b[39;00m \u001b[39mnot\u001b[39;00m \u001b[39mNone\u001b[39;00m:\n\u001b[1;32m--> 342\u001b[0m         \u001b[39mreturn\u001b[39;00m method()\n\u001b[0;32m    343\u001b[0m     \u001b[39mreturn\u001b[39;00m \u001b[39mNone\u001b[39;00m\n\u001b[0;32m    344\u001b[0m \u001b[39melse\u001b[39;00m:\n",
      "File \u001b[1;32mc:\\Users\\filip\\AppData\\Local\\Programs\\Python\\Python311\\Lib\\site-packages\\seaborn\\_core\\plot.py:279\u001b[0m, in \u001b[0;36mPlot._repr_png_\u001b[1;34m(self)\u001b[0m\n\u001b[0;32m    277\u001b[0m \u001b[39mdef\u001b[39;00m \u001b[39m_repr_png_\u001b[39m(\u001b[39mself\u001b[39m) \u001b[39m-\u001b[39m\u001b[39m>\u001b[39m \u001b[39mtuple\u001b[39m[\u001b[39mbytes\u001b[39m, \u001b[39mdict\u001b[39m[\u001b[39mstr\u001b[39m, \u001b[39mfloat\u001b[39m]]:\n\u001b[1;32m--> 279\u001b[0m     \u001b[39mreturn\u001b[39;00m \u001b[39mself\u001b[39;49m\u001b[39m.\u001b[39;49mplot()\u001b[39m.\u001b[39m_repr_png_()\n",
      "File \u001b[1;32mc:\\Users\\filip\\AppData\\Local\\Programs\\Python\\Python311\\Lib\\site-packages\\seaborn\\_core\\plot.py:821\u001b[0m, in \u001b[0;36mPlot.plot\u001b[1;34m(self, pyplot)\u001b[0m\n\u001b[0;32m    817\u001b[0m \u001b[39m\"\"\"\u001b[39;00m\n\u001b[0;32m    818\u001b[0m \u001b[39mCompile the plot spec and return the Plotter object.\u001b[39;00m\n\u001b[0;32m    819\u001b[0m \u001b[39m\"\"\"\u001b[39;00m\n\u001b[0;32m    820\u001b[0m \u001b[39mwith\u001b[39;00m theme_context(\u001b[39mself\u001b[39m\u001b[39m.\u001b[39m_theme_with_defaults()):\n\u001b[1;32m--> 821\u001b[0m     \u001b[39mreturn\u001b[39;00m \u001b[39mself\u001b[39;49m\u001b[39m.\u001b[39;49m_plot(pyplot)\n",
      "File \u001b[1;32mc:\\Users\\filip\\AppData\\Local\\Programs\\Python\\Python311\\Lib\\site-packages\\seaborn\\_core\\plot.py:836\u001b[0m, in \u001b[0;36mPlot._plot\u001b[1;34m(self, pyplot)\u001b[0m\n\u001b[0;32m    834\u001b[0m \u001b[39m# Process the scale spec for coordinate variables and transform their data\u001b[39;00m\n\u001b[0;32m    835\u001b[0m coord_vars \u001b[39m=\u001b[39m [v \u001b[39mfor\u001b[39;00m v \u001b[39min\u001b[39;00m \u001b[39mself\u001b[39m\u001b[39m.\u001b[39m_variables \u001b[39mif\u001b[39;00m re\u001b[39m.\u001b[39mmatch(\u001b[39mr\u001b[39m\u001b[39m\"\u001b[39m\u001b[39m^x|y\u001b[39m\u001b[39m\"\u001b[39m, v)]\n\u001b[1;32m--> 836\u001b[0m plotter\u001b[39m.\u001b[39;49m_setup_scales(\u001b[39mself\u001b[39;49m, common, layers, coord_vars)\n\u001b[0;32m    838\u001b[0m \u001b[39m# Apply statistical transform(s)\u001b[39;00m\n\u001b[0;32m    839\u001b[0m plotter\u001b[39m.\u001b[39m_compute_stats(\u001b[39mself\u001b[39m, layers)\n",
      "File \u001b[1;32mc:\\Users\\filip\\AppData\\Local\\Programs\\Python\\Python311\\Lib\\site-packages\\seaborn\\_core\\plot.py:1284\u001b[0m, in \u001b[0;36mPlotter._setup_scales\u001b[1;34m(self, p, common, layers, variables)\u001b[0m\n\u001b[0;32m   1282\u001b[0m idx \u001b[39m=\u001b[39m \u001b[39mself\u001b[39m\u001b[39m.\u001b[39m_get_subplot_index(layer_df, view)\n\u001b[0;32m   1283\u001b[0m \u001b[39mtry\u001b[39;00m:\n\u001b[1;32m-> 1284\u001b[0m     new_series\u001b[39m.\u001b[39mloc[idx] \u001b[39m=\u001b[39m view_scale(layer_df\u001b[39m.\u001b[39;49mloc[idx, var])\n\u001b[0;32m   1285\u001b[0m \u001b[39mexcept\u001b[39;00m \u001b[39mException\u001b[39;00m \u001b[39mas\u001b[39;00m err:\n\u001b[0;32m   1286\u001b[0m     spec_error \u001b[39m=\u001b[39m PlotSpecError\u001b[39m.\u001b[39m_during(\u001b[39m\"\u001b[39m\u001b[39mScaling operation\u001b[39m\u001b[39m\"\u001b[39m, var)\n",
      "File \u001b[1;32mc:\\Users\\filip\\AppData\\Local\\Programs\\Python\\Python311\\Lib\\site-packages\\pandas\\core\\indexing.py:1067\u001b[0m, in \u001b[0;36m_LocationIndexer.__getitem__\u001b[1;34m(self, key)\u001b[0m\n\u001b[0;32m   1065\u001b[0m     \u001b[39mif\u001b[39;00m \u001b[39mself\u001b[39m\u001b[39m.\u001b[39m_is_scalar_access(key):\n\u001b[0;32m   1066\u001b[0m         \u001b[39mreturn\u001b[39;00m \u001b[39mself\u001b[39m\u001b[39m.\u001b[39mobj\u001b[39m.\u001b[39m_get_value(\u001b[39m*\u001b[39mkey, takeable\u001b[39m=\u001b[39m\u001b[39mself\u001b[39m\u001b[39m.\u001b[39m_takeable)\n\u001b[1;32m-> 1067\u001b[0m     \u001b[39mreturn\u001b[39;00m \u001b[39mself\u001b[39;49m\u001b[39m.\u001b[39;49m_getitem_tuple(key)\n\u001b[0;32m   1068\u001b[0m \u001b[39melse\u001b[39;00m:\n\u001b[0;32m   1069\u001b[0m     \u001b[39m# we by definition only have the 0th axis\u001b[39;00m\n\u001b[0;32m   1070\u001b[0m     axis \u001b[39m=\u001b[39m \u001b[39mself\u001b[39m\u001b[39m.\u001b[39maxis \u001b[39mor\u001b[39;00m \u001b[39m0\u001b[39m\n",
      "File \u001b[1;32mc:\\Users\\filip\\AppData\\Local\\Programs\\Python\\Python311\\Lib\\site-packages\\pandas\\core\\indexing.py:1247\u001b[0m, in \u001b[0;36m_LocIndexer._getitem_tuple\u001b[1;34m(self, tup)\u001b[0m\n\u001b[0;32m   1245\u001b[0m \u001b[39mwith\u001b[39;00m suppress(IndexingError):\n\u001b[0;32m   1246\u001b[0m     tup \u001b[39m=\u001b[39m \u001b[39mself\u001b[39m\u001b[39m.\u001b[39m_expand_ellipsis(tup)\n\u001b[1;32m-> 1247\u001b[0m     \u001b[39mreturn\u001b[39;00m \u001b[39mself\u001b[39;49m\u001b[39m.\u001b[39;49m_getitem_lowerdim(tup)\n\u001b[0;32m   1249\u001b[0m \u001b[39m# no multi-index, so validate all of the indexers\u001b[39;00m\n\u001b[0;32m   1250\u001b[0m tup \u001b[39m=\u001b[39m \u001b[39mself\u001b[39m\u001b[39m.\u001b[39m_validate_tuple_indexer(tup)\n",
      "File \u001b[1;32mc:\\Users\\filip\\AppData\\Local\\Programs\\Python\\Python311\\Lib\\site-packages\\pandas\\core\\indexing.py:991\u001b[0m, in \u001b[0;36m_LocationIndexer._getitem_lowerdim\u001b[1;34m(self, tup)\u001b[0m\n\u001b[0;32m    989\u001b[0m             \u001b[39mreturn\u001b[39;00m section\n\u001b[0;32m    990\u001b[0m         \u001b[39m# This is an elided recursive call to iloc/loc\u001b[39;00m\n\u001b[1;32m--> 991\u001b[0m         \u001b[39mreturn\u001b[39;00m \u001b[39mgetattr\u001b[39;49m(section, \u001b[39mself\u001b[39;49m\u001b[39m.\u001b[39;49mname)[new_key]\n\u001b[0;32m    993\u001b[0m \u001b[39mraise\u001b[39;00m IndexingError(\u001b[39m\"\u001b[39m\u001b[39mnot applicable\u001b[39m\u001b[39m\"\u001b[39m)\n",
      "File \u001b[1;32mc:\\Users\\filip\\AppData\\Local\\Programs\\Python\\Python311\\Lib\\site-packages\\pandas\\core\\indexing.py:1073\u001b[0m, in \u001b[0;36m_LocationIndexer.__getitem__\u001b[1;34m(self, key)\u001b[0m\n\u001b[0;32m   1070\u001b[0m axis \u001b[39m=\u001b[39m \u001b[39mself\u001b[39m\u001b[39m.\u001b[39maxis \u001b[39mor\u001b[39;00m \u001b[39m0\u001b[39m\n\u001b[0;32m   1072\u001b[0m maybe_callable \u001b[39m=\u001b[39m com\u001b[39m.\u001b[39mapply_if_callable(key, \u001b[39mself\u001b[39m\u001b[39m.\u001b[39mobj)\n\u001b[1;32m-> 1073\u001b[0m \u001b[39mreturn\u001b[39;00m \u001b[39mself\u001b[39;49m\u001b[39m.\u001b[39;49m_getitem_axis(maybe_callable, axis\u001b[39m=\u001b[39;49maxis)\n",
      "File \u001b[1;32mc:\\Users\\filip\\AppData\\Local\\Programs\\Python\\Python311\\Lib\\site-packages\\pandas\\core\\indexing.py:1301\u001b[0m, in \u001b[0;36m_LocIndexer._getitem_axis\u001b[1;34m(self, key, axis)\u001b[0m\n\u001b[0;32m   1298\u001b[0m     \u001b[39mif\u001b[39;00m \u001b[39mhasattr\u001b[39m(key, \u001b[39m\"\u001b[39m\u001b[39mndim\u001b[39m\u001b[39m\"\u001b[39m) \u001b[39mand\u001b[39;00m key\u001b[39m.\u001b[39mndim \u001b[39m>\u001b[39m \u001b[39m1\u001b[39m:\n\u001b[0;32m   1299\u001b[0m         \u001b[39mraise\u001b[39;00m \u001b[39mValueError\u001b[39;00m(\u001b[39m\"\u001b[39m\u001b[39mCannot index with multidimensional key\u001b[39m\u001b[39m\"\u001b[39m)\n\u001b[1;32m-> 1301\u001b[0m     \u001b[39mreturn\u001b[39;00m \u001b[39mself\u001b[39;49m\u001b[39m.\u001b[39;49m_getitem_iterable(key, axis\u001b[39m=\u001b[39;49maxis)\n\u001b[0;32m   1303\u001b[0m \u001b[39m# nested tuple slicing\u001b[39;00m\n\u001b[0;32m   1304\u001b[0m \u001b[39mif\u001b[39;00m is_nested_tuple(key, labels):\n",
      "File \u001b[1;32mc:\\Users\\filip\\AppData\\Local\\Programs\\Python\\Python311\\Lib\\site-packages\\pandas\\core\\indexing.py:1239\u001b[0m, in \u001b[0;36m_LocIndexer._getitem_iterable\u001b[1;34m(self, key, axis)\u001b[0m\n\u001b[0;32m   1236\u001b[0m \u001b[39mself\u001b[39m\u001b[39m.\u001b[39m_validate_key(key, axis)\n\u001b[0;32m   1238\u001b[0m \u001b[39m# A collection of keys\u001b[39;00m\n\u001b[1;32m-> 1239\u001b[0m keyarr, indexer \u001b[39m=\u001b[39m \u001b[39mself\u001b[39;49m\u001b[39m.\u001b[39;49m_get_listlike_indexer(key, axis)\n\u001b[0;32m   1240\u001b[0m \u001b[39mreturn\u001b[39;00m \u001b[39mself\u001b[39m\u001b[39m.\u001b[39mobj\u001b[39m.\u001b[39m_reindex_with_indexers(\n\u001b[0;32m   1241\u001b[0m     {axis: [keyarr, indexer]}, copy\u001b[39m=\u001b[39m\u001b[39mTrue\u001b[39;00m, allow_dups\u001b[39m=\u001b[39m\u001b[39mTrue\u001b[39;00m\n\u001b[0;32m   1242\u001b[0m )\n",
      "File \u001b[1;32mc:\\Users\\filip\\AppData\\Local\\Programs\\Python\\Python311\\Lib\\site-packages\\pandas\\core\\indexing.py:1432\u001b[0m, in \u001b[0;36m_LocIndexer._get_listlike_indexer\u001b[1;34m(self, key, axis)\u001b[0m\n\u001b[0;32m   1429\u001b[0m ax \u001b[39m=\u001b[39m \u001b[39mself\u001b[39m\u001b[39m.\u001b[39mobj\u001b[39m.\u001b[39m_get_axis(axis)\n\u001b[0;32m   1430\u001b[0m axis_name \u001b[39m=\u001b[39m \u001b[39mself\u001b[39m\u001b[39m.\u001b[39mobj\u001b[39m.\u001b[39m_get_axis_name(axis)\n\u001b[1;32m-> 1432\u001b[0m keyarr, indexer \u001b[39m=\u001b[39m ax\u001b[39m.\u001b[39;49m_get_indexer_strict(key, axis_name)\n\u001b[0;32m   1434\u001b[0m \u001b[39mreturn\u001b[39;00m keyarr, indexer\n",
      "File \u001b[1;32mc:\\Users\\filip\\AppData\\Local\\Programs\\Python\\Python311\\Lib\\site-packages\\pandas\\core\\indexes\\base.py:6111\u001b[0m, in \u001b[0;36mIndex._get_indexer_strict\u001b[1;34m(self, key, axis_name)\u001b[0m\n\u001b[0;32m   6109\u001b[0m     keyarr \u001b[39m=\u001b[39m \u001b[39mself\u001b[39m\u001b[39m.\u001b[39mreindex(keyarr)[\u001b[39m0\u001b[39m]\n\u001b[0;32m   6110\u001b[0m \u001b[39melse\u001b[39;00m:\n\u001b[1;32m-> 6111\u001b[0m     keyarr, indexer, new_indexer \u001b[39m=\u001b[39m \u001b[39mself\u001b[39;49m\u001b[39m.\u001b[39;49m_reindex_non_unique(keyarr)\n\u001b[0;32m   6113\u001b[0m \u001b[39mself\u001b[39m\u001b[39m.\u001b[39m_raise_if_missing(keyarr, indexer, axis_name)\n\u001b[0;32m   6115\u001b[0m keyarr \u001b[39m=\u001b[39m \u001b[39mself\u001b[39m\u001b[39m.\u001b[39mtake(indexer)\n",
      "File \u001b[1;32mc:\\Users\\filip\\AppData\\Local\\Programs\\Python\\Python311\\Lib\\site-packages\\pandas\\core\\indexes\\base.py:4516\u001b[0m, in \u001b[0;36mIndex._reindex_non_unique\u001b[1;34m(self, target)\u001b[0m\n\u001b[0;32m   4512\u001b[0m \u001b[39mif\u001b[39;00m \u001b[39mlen\u001b[39m(target) \u001b[39m==\u001b[39m \u001b[39m0\u001b[39m:\n\u001b[0;32m   4513\u001b[0m     \u001b[39m# GH#13691\u001b[39;00m\n\u001b[0;32m   4514\u001b[0m     \u001b[39mreturn\u001b[39;00m \u001b[39mself\u001b[39m[:\u001b[39m0\u001b[39m], np\u001b[39m.\u001b[39marray([], dtype\u001b[39m=\u001b[39mnp\u001b[39m.\u001b[39mintp), \u001b[39mNone\u001b[39;00m\n\u001b[1;32m-> 4516\u001b[0m indexer, missing \u001b[39m=\u001b[39m \u001b[39mself\u001b[39;49m\u001b[39m.\u001b[39;49mget_indexer_non_unique(target)\n\u001b[0;32m   4517\u001b[0m check \u001b[39m=\u001b[39m indexer \u001b[39m!=\u001b[39m \u001b[39m-\u001b[39m\u001b[39m1\u001b[39m\n\u001b[0;32m   4518\u001b[0m new_labels \u001b[39m=\u001b[39m \u001b[39mself\u001b[39m\u001b[39m.\u001b[39mtake(indexer[check])\n",
      "File \u001b[1;32mc:\\Users\\filip\\AppData\\Local\\Programs\\Python\\Python311\\Lib\\site-packages\\pandas\\core\\indexes\\base.py:6072\u001b[0m, in \u001b[0;36mIndex.get_indexer_non_unique\u001b[1;34m(self, target)\u001b[0m\n\u001b[0;32m   6068\u001b[0m     \u001b[39m# Item \"IndexEngine\" of \"Union[IndexEngine, ExtensionEngine]\" has\u001b[39;00m\n\u001b[0;32m   6069\u001b[0m     \u001b[39m# no attribute \"_extract_level_codes\"\u001b[39;00m\n\u001b[0;32m   6070\u001b[0m     tgt_values \u001b[39m=\u001b[39m engine\u001b[39m.\u001b[39m_extract_level_codes(target)  \u001b[39m# type: ignore[union-attr]\u001b[39;00m\n\u001b[1;32m-> 6072\u001b[0m indexer, missing \u001b[39m=\u001b[39m \u001b[39mself\u001b[39;49m\u001b[39m.\u001b[39;49m_engine\u001b[39m.\u001b[39;49mget_indexer_non_unique(tgt_values)\n\u001b[0;32m   6073\u001b[0m \u001b[39mreturn\u001b[39;00m ensure_platform_int(indexer), ensure_platform_int(missing)\n",
      "File \u001b[1;32mc:\\Users\\filip\\AppData\\Local\\Programs\\Python\\Python311\\Lib\\site-packages\\pandas\\_libs\\index.pyx:427\u001b[0m, in \u001b[0;36mpandas._libs.index.IndexEngine.get_indexer_non_unique\u001b[1;34m()\u001b[0m\n",
      "File \u001b[1;32m<__array_function__ internals>:180\u001b[0m, in \u001b[0;36mresize\u001b[1;34m(*args, **kwargs)\u001b[0m\n",
      "File \u001b[1;32mc:\\Users\\filip\\AppData\\Local\\Programs\\Python\\Python311\\Lib\\site-packages\\numpy\\core\\fromnumeric.py:1469\u001b[0m, in \u001b[0;36mresize\u001b[1;34m(a, new_shape)\u001b[0m\n\u001b[0;32m   1466\u001b[0m     \u001b[39mreturn\u001b[39;00m np\u001b[39m.\u001b[39mzeros_like(a, shape\u001b[39m=\u001b[39mnew_shape)\n\u001b[0;32m   1468\u001b[0m repeats \u001b[39m=\u001b[39m \u001b[39m-\u001b[39m(\u001b[39m-\u001b[39mnew_size \u001b[39m/\u001b[39m\u001b[39m/\u001b[39m a\u001b[39m.\u001b[39msize)  \u001b[39m# ceil division\u001b[39;00m\n\u001b[1;32m-> 1469\u001b[0m a \u001b[39m=\u001b[39m concatenate((a,) \u001b[39m*\u001b[39;49m repeats)[:new_size]\n\u001b[0;32m   1471\u001b[0m \u001b[39mreturn\u001b[39;00m reshape(a, new_shape)\n",
      "File \u001b[1;32m<__array_function__ internals>:180\u001b[0m, in \u001b[0;36mconcatenate\u001b[1;34m(*args, **kwargs)\u001b[0m\n",
      "\u001b[1;31mKeyboardInterrupt\u001b[0m: "
     ]
    }
   ],
   "source": [
    "(\n",
    "  so.Plot(df, x=\"ano_obito\", y=\"causabas_capitulo\", color=\"causabas_capitulo\")\n",
    "  .add(so.Area(), so.Agg(\"count\"), so.Norm(func=\"count\"), so.Stack())\n",
    ")"
   ]
  },
  {
   "cell_type": "code",
   "execution_count": 44,
   "metadata": {},
   "outputs": [
    {
     "data": {
      "text/plain": [
       "['I.   Algumas doenças infecciosas e parasitárias',\n",
       " 'II.  Neoplasias (tumores)',\n",
       " 'III. Doenças sangue órgãos hemat e transt imunitár',\n",
       " 'IV.  Doenças endócrinas nutricionais e metabólicas',\n",
       " 'IX.  Doenças do aparelho circulatório',\n",
       " 'V.   Transtornos mentais e comportamentais',\n",
       " 'VI.  Doenças do sistema nervoso',\n",
       " 'VII. Doenças do olho e anexos',\n",
       " 'VIII.Doenças do ouvido e da apófise mastóide',\n",
       " 'X.   Doenças do aparelho respiratório',\n",
       " 'XI.  Doenças do aparelho digestivo',\n",
       " 'XII. Doenças da pele e do tecido subcutâneo',\n",
       " 'XIII.Doenças sist osteomuscular e tec conjuntivo',\n",
       " 'XIV. Doenças do aparelho geniturinário',\n",
       " 'XV.  Gravidez parto e puerpério',\n",
       " 'XVI. Algumas afec originadas no período perinatal',\n",
       " 'XVII.Malf cong deformid e anomalias cromossômicas',\n",
       " 'XVIII.Sint sinais e achad anorm ex clín e laborat',\n",
       " 'XX.  Causas externas de morbidade e mortalidade']"
      ]
     },
     "execution_count": 44,
     "metadata": {},
     "output_type": "execute_result"
    }
   ],
   "source": [
    "capitulos = sorted(df.causabas_capitulo.unique())\n",
    "capitulos\n",
    "\n",
    "for doenca in capitulos "
   ]
  },
  {
   "cell_type": "code",
   "execution_count": 37,
   "metadata": {},
   "outputs": [
    {
     "data": {
      "text/plain": [
       "<Figure size 1000x600 with 0 Axes>"
      ]
     },
     "execution_count": 37,
     "metadata": {},
     "output_type": "execute_result"
    },
    {
     "ename": "ValueError",
     "evalue": "need at least one array to concatenate",
     "output_type": "error",
     "traceback": [
      "\u001b[1;31m---------------------------------------------------------------------------\u001b[0m",
      "\u001b[1;31mValueError\u001b[0m                                Traceback (most recent call last)",
      "Cell \u001b[1;32mIn[37], line 10\u001b[0m\n\u001b[0;32m      7\u001b[0m sns\u001b[39m.\u001b[39mset(style\u001b[39m=\u001b[39m\u001b[39m\"\u001b[39m\u001b[39mwhitegrid\u001b[39m\u001b[39m\"\u001b[39m)  \u001b[39m# Set the style of the plot\u001b[39;00m\n\u001b[0;32m      8\u001b[0m plt\u001b[39m.\u001b[39mfigure(figsize\u001b[39m=\u001b[39m(\u001b[39m10\u001b[39m, \u001b[39m6\u001b[39m))  \u001b[39m# Set the size of the plot\u001b[39;00m\n\u001b[1;32m---> 10\u001b[0m plt\u001b[39m.\u001b[39;49mstackplot(data\u001b[39m=\u001b[39;49mdf, x\u001b[39m=\u001b[39;49m\u001b[39m\"\u001b[39;49m\u001b[39mano_obito\u001b[39;49m\u001b[39m\"\u001b[39;49m, y\u001b[39m=\u001b[39;49m\u001b[39m\"\u001b[39;49m\u001b[39mcausabas_capitulo\u001b[39;49m\u001b[39m\"\u001b[39;49m)\n\u001b[0;32m     12\u001b[0m \u001b[39m# Add labels and title\u001b[39;00m\n\u001b[0;32m     13\u001b[0m plt\u001b[39m.\u001b[39mxlabel(\u001b[39m\"\u001b[39m\u001b[39mAno de Óbito\u001b[39m\u001b[39m\"\u001b[39m)\n",
      "File \u001b[1;32mc:\\Users\\filip\\AppData\\Local\\Programs\\Python\\Python311\\Lib\\site-packages\\matplotlib\\pyplot.py:2853\u001b[0m, in \u001b[0;36mstackplot\u001b[1;34m(x, labels, colors, baseline, data, *args, **kwargs)\u001b[0m\n\u001b[0;32m   2849\u001b[0m \u001b[39m@_copy_docstring_and_deprecators\u001b[39m(Axes\u001b[39m.\u001b[39mstackplot)\n\u001b[0;32m   2850\u001b[0m \u001b[39mdef\u001b[39;00m \u001b[39mstackplot\u001b[39m(\n\u001b[0;32m   2851\u001b[0m         x, \u001b[39m*\u001b[39margs, labels\u001b[39m=\u001b[39m(), colors\u001b[39m=\u001b[39m\u001b[39mNone\u001b[39;00m, baseline\u001b[39m=\u001b[39m\u001b[39m'\u001b[39m\u001b[39mzero\u001b[39m\u001b[39m'\u001b[39m, data\u001b[39m=\u001b[39m\u001b[39mNone\u001b[39;00m,\n\u001b[0;32m   2852\u001b[0m         \u001b[39m*\u001b[39m\u001b[39m*\u001b[39mkwargs):\n\u001b[1;32m-> 2853\u001b[0m     \u001b[39mreturn\u001b[39;00m gca()\u001b[39m.\u001b[39;49mstackplot(\n\u001b[0;32m   2854\u001b[0m         x, \u001b[39m*\u001b[39;49margs, labels\u001b[39m=\u001b[39;49mlabels, colors\u001b[39m=\u001b[39;49mcolors, baseline\u001b[39m=\u001b[39;49mbaseline,\n\u001b[0;32m   2855\u001b[0m         \u001b[39m*\u001b[39;49m\u001b[39m*\u001b[39;49m({\u001b[39m\"\u001b[39;49m\u001b[39mdata\u001b[39;49m\u001b[39m\"\u001b[39;49m: data} \u001b[39mif\u001b[39;49;00m data \u001b[39mis\u001b[39;49;00m \u001b[39mnot\u001b[39;49;00m \u001b[39mNone\u001b[39;49;00m \u001b[39melse\u001b[39;49;00m {}), \u001b[39m*\u001b[39;49m\u001b[39m*\u001b[39;49mkwargs)\n",
      "File \u001b[1;32mc:\\Users\\filip\\AppData\\Local\\Programs\\Python\\Python311\\Lib\\site-packages\\matplotlib\\__init__.py:1459\u001b[0m, in \u001b[0;36m_preprocess_data.<locals>.inner\u001b[1;34m(ax, data, *args, **kwargs)\u001b[0m\n\u001b[0;32m   1455\u001b[0m \u001b[39mif\u001b[39;00m label_namer \u001b[39mand\u001b[39;00m \u001b[39m\"\u001b[39m\u001b[39mlabel\u001b[39m\u001b[39m\"\u001b[39m \u001b[39mnot\u001b[39;00m \u001b[39min\u001b[39;00m args_and_kwargs:\n\u001b[0;32m   1456\u001b[0m     new_kwargs[\u001b[39m\"\u001b[39m\u001b[39mlabel\u001b[39m\u001b[39m\"\u001b[39m] \u001b[39m=\u001b[39m _label_from_arg(\n\u001b[0;32m   1457\u001b[0m         args_and_kwargs\u001b[39m.\u001b[39mget(label_namer), auto_label)\n\u001b[1;32m-> 1459\u001b[0m \u001b[39mreturn\u001b[39;00m func(\u001b[39m*\u001b[39;49mnew_args, \u001b[39m*\u001b[39;49m\u001b[39m*\u001b[39;49mnew_kwargs)\n",
      "File \u001b[1;32mc:\\Users\\filip\\AppData\\Local\\Programs\\Python\\Python311\\Lib\\site-packages\\matplotlib\\stackplot.py:71\u001b[0m, in \u001b[0;36mstackplot\u001b[1;34m(axes, x, labels, colors, baseline, *args, **kwargs)\u001b[0m\n\u001b[0;32m     18\u001b[0m \u001b[39mdef\u001b[39;00m \u001b[39mstackplot\u001b[39m(axes, x, \u001b[39m*\u001b[39margs,\n\u001b[0;32m     19\u001b[0m               labels\u001b[39m=\u001b[39m(), colors\u001b[39m=\u001b[39m\u001b[39mNone\u001b[39;00m, baseline\u001b[39m=\u001b[39m\u001b[39m'\u001b[39m\u001b[39mzero\u001b[39m\u001b[39m'\u001b[39m,\n\u001b[0;32m     20\u001b[0m               \u001b[39m*\u001b[39m\u001b[39m*\u001b[39mkwargs):\n\u001b[0;32m     21\u001b[0m     \u001b[39m\"\"\"\u001b[39;00m\n\u001b[0;32m     22\u001b[0m \u001b[39m    Draw a stacked area plot.\u001b[39;00m\n\u001b[0;32m     23\u001b[0m \n\u001b[1;32m   (...)\u001b[0m\n\u001b[0;32m     68\u001b[0m \u001b[39m        stacked area plot.\u001b[39;00m\n\u001b[0;32m     69\u001b[0m \u001b[39m    \"\"\"\u001b[39;00m\n\u001b[1;32m---> 71\u001b[0m     y \u001b[39m=\u001b[39m np\u001b[39m.\u001b[39;49mrow_stack(args)\n\u001b[0;32m     73\u001b[0m     labels \u001b[39m=\u001b[39m \u001b[39miter\u001b[39m(labels)\n\u001b[0;32m     74\u001b[0m     \u001b[39mif\u001b[39;00m colors \u001b[39mis\u001b[39;00m \u001b[39mnot\u001b[39;00m \u001b[39mNone\u001b[39;00m:\n",
      "File \u001b[1;32m<__array_function__ internals>:180\u001b[0m, in \u001b[0;36mvstack\u001b[1;34m(*args, **kwargs)\u001b[0m\n",
      "File \u001b[1;32mc:\\Users\\filip\\AppData\\Local\\Programs\\Python\\Python311\\Lib\\site-packages\\numpy\\core\\shape_base.py:282\u001b[0m, in \u001b[0;36mvstack\u001b[1;34m(tup)\u001b[0m\n\u001b[0;32m    280\u001b[0m \u001b[39mif\u001b[39;00m \u001b[39mnot\u001b[39;00m \u001b[39misinstance\u001b[39m(arrs, \u001b[39mlist\u001b[39m):\n\u001b[0;32m    281\u001b[0m     arrs \u001b[39m=\u001b[39m [arrs]\n\u001b[1;32m--> 282\u001b[0m \u001b[39mreturn\u001b[39;00m _nx\u001b[39m.\u001b[39;49mconcatenate(arrs, \u001b[39m0\u001b[39;49m)\n",
      "File \u001b[1;32m<__array_function__ internals>:180\u001b[0m, in \u001b[0;36mconcatenate\u001b[1;34m(*args, **kwargs)\u001b[0m\n",
      "\u001b[1;31mValueError\u001b[0m: need at least one array to concatenate"
     ]
    },
    {
     "data": {
      "image/png": "[encoded data removed]",
      "text/plain": [
       "<Figure size 1000x600 with 1 Axes>"
      ]
     },
     "metadata": {},
     "output_type": "display_data"
    }
   ],
   "source": [
    "import seaborn as sns\n",
    "import matplotlib.pyplot as plt\n",
    "\n",
    "# Assuming you have imported your dataframe 'df'\n",
    "\n",
    "# Create the area plot\n",
    "sns.set(style=\"whitegrid\")  # Set the style of the plot\n",
    "plt.figure(figsize=(10, 6))  # Set the size of the plot\n",
    "\n",
    "plt.stackplot(data=df, x=\"ano_obito\", y=\"causabas_capitulo\")\n",
    "\n",
    "# Add labels and title\n",
    "plt.xlabel(\"Ano de Óbito\")\n",
    "plt.ylabel(\"Causa Básica (Capítulo)\")\n",
    "plt.title(\"Área de Causa Básica por Ano de Óbito\")\n",
    "\n",
    "# Show the plot\n",
    "plt.show()\n"
   ]
  },
  {
   "cell_type": "code",
   "execution_count": 13,
   "metadata": {},
   "outputs": [
    {
     "data": {
      "text/plain": [
       "def_raca_cor\n",
       "Amarela      16021\n",
       "Branca       10519\n",
       "Ignorado    205495\n",
       "Indígena       956\n",
       "Parda         1864\n",
       "Preta          554\n",
       "dtype: int64"
      ]
     },
     "execution_count": 13,
     "metadata": {},
     "output_type": "execute_result"
    },
    {
     "data": {
      "text/plain": [
       "def_raca_cor\n",
       "Amarela       5712\n",
       "Branca      299958\n",
       "Ignorado      6375\n",
       "Indígena       228\n",
       "Parda        88668\n",
       "Preta        30675\n",
       "dtype: int64"
      ]
     },
     "execution_count": 13,
     "metadata": {},
     "output_type": "execute_result"
    }
   ],
   "source": [
    "SP1998.groupby('def_raca_cor').size() \n",
    "SP2020.groupby('def_raca_cor').size()"
   ]
  },
  {
   "cell_type": "code",
   "execution_count": 14,
   "metadata": {},
   "outputs": [
    {
     "data": {
      "text/plain": [
       "count    229512.000000\n",
       "mean         55.325900\n",
       "std          25.448906\n",
       "min           0.000000\n",
       "25%          39.000000\n",
       "50%          61.000000\n",
       "75%          75.000000\n",
       "max         127.000000\n",
       "Name: idade_obito_calculado, dtype: float64"
      ]
     },
     "execution_count": 14,
     "metadata": {},
     "output_type": "execute_result"
    },
    {
     "data": {
      "text/plain": [
       "count    430911.000000\n",
       "mean         66.901323\n",
       "std          18.953583\n",
       "min           0.000000\n",
       "25%          57.000000\n",
       "50%          69.000000\n",
       "75%          81.000000\n",
       "max         120.000000\n",
       "Name: idade_obito_calculado, dtype: float64"
      ]
     },
     "execution_count": 14,
     "metadata": {},
     "output_type": "execute_result"
    }
   ],
   "source": [
    "SP1998['idade_obito_calculado'].describe()\n",
    "SP2020['idade_obito_calculado'].describe()"
   ]
  },
  {
   "cell_type": "code",
   "execution_count": 15,
   "metadata": {},
   "outputs": [],
   "source": [
    "causas_morte_2020 = SP1998.groupby('causabas_capitulo').size() \n",
    "causas_morte_1998 = SP2020.groupby('causabas_capitulo').size()"
   ]
  },
  {
   "cell_type": "code",
   "execution_count": 7,
   "metadata": {},
   "outputs": [],
   "source": [
    "sns.set(style=\"whitegrid\")"
   ]
  },
  {
   "cell_type": "code",
   "execution_count": 26,
   "metadata": {},
   "outputs": [
    {
     "data": {
      "text/html": [
       "<div>\n",
       "<style scoped>\n",
       "    .dataframe tbody tr th:only-of-type {\n",
       "        vertical-align: middle;\n",
       "    }\n",
       "\n",
       "    .dataframe tbody tr th {\n",
       "        vertical-align: top;\n",
       "    }\n",
       "\n",
       "    .dataframe thead th {\n",
       "        text-align: right;\n",
       "    }\n",
       "</style>\n",
       "<table border=\"1\" class=\"dataframe\">\n",
       "  <thead>\n",
       "    <tr style=\"text-align: right;\">\n",
       "      <th></th>\n",
       "      <th>ORIGEM</th>\n",
       "      <th>TIPOBITO</th>\n",
       "      <th>DTOBITO</th>\n",
       "      <th>HORAOBITO</th>\n",
       "      <th>NATURAL</th>\n",
       "      <th>CODMUNNATU</th>\n",
       "      <th>DTNASC</th>\n",
       "      <th>IDADE</th>\n",
       "      <th>idade_obito_anos</th>\n",
       "      <th>idade_obito_meses</th>\n",
       "      <th>...</th>\n",
       "      <th>ocor_coordenadas</th>\n",
       "      <th>res_coordenadas</th>\n",
       "      <th>data_obito</th>\n",
       "      <th>dia_semana_obito</th>\n",
       "      <th>ano_obito</th>\n",
       "      <th>data_nasc</th>\n",
       "      <th>dia_semana_nasc</th>\n",
       "      <th>ano_nasc</th>\n",
       "      <th>idade_obito</th>\n",
       "      <th>idade_obito_calculado</th>\n",
       "    </tr>\n",
       "  </thead>\n",
       "  <tbody>\n",
       "    <tr>\n",
       "      <th>0</th>\n",
       "      <td>1</td>\n",
       "      <td>2</td>\n",
       "      <td>5052020</td>\n",
       "      <td>1405.0</td>\n",
       "      <td>835.0</td>\n",
       "      <td>354850.0</td>\n",
       "      <td>12121941.0</td>\n",
       "      <td>478</td>\n",
       "      <td>78.0</td>\n",
       "      <td>NaN</td>\n",
       "      <td>...</td>\n",
       "      <td>-23.993,-46.256</td>\n",
       "      <td>-23.993,-46.256</td>\n",
       "      <td>2020-05-05</td>\n",
       "      <td>ter</td>\n",
       "      <td>2020</td>\n",
       "      <td>1941-12-12</td>\n",
       "      <td>sex</td>\n",
       "      <td>1941.0</td>\n",
       "      <td>78.0</td>\n",
       "      <td>78.0</td>\n",
       "    </tr>\n",
       "    <tr>\n",
       "      <th>1</th>\n",
       "      <td>1</td>\n",
       "      <td>2</td>\n",
       "      <td>5052020</td>\n",
       "      <td>1406.0</td>\n",
       "      <td>835.0</td>\n",
       "      <td>353760.0</td>\n",
       "      <td>18111942.0</td>\n",
       "      <td>477</td>\n",
       "      <td>77.0</td>\n",
       "      <td>NaN</td>\n",
       "      <td>...</td>\n",
       "      <td>-23.993,-46.256</td>\n",
       "      <td>-23.993,-46.256</td>\n",
       "      <td>2020-05-05</td>\n",
       "      <td>ter</td>\n",
       "      <td>2020</td>\n",
       "      <td>1942-11-18</td>\n",
       "      <td>qua</td>\n",
       "      <td>1942.0</td>\n",
       "      <td>77.0</td>\n",
       "      <td>77.0</td>\n",
       "    </tr>\n",
       "    <tr>\n",
       "      <th>2</th>\n",
       "      <td>1</td>\n",
       "      <td>2</td>\n",
       "      <td>27052020</td>\n",
       "      <td>2242.0</td>\n",
       "      <td>835.0</td>\n",
       "      <td>355030.0</td>\n",
       "      <td>20121942.0</td>\n",
       "      <td>477</td>\n",
       "      <td>77.0</td>\n",
       "      <td>NaN</td>\n",
       "      <td>...</td>\n",
       "      <td>-23.548,-46.636</td>\n",
       "      <td>-23.548,-46.636</td>\n",
       "      <td>2020-05-27</td>\n",
       "      <td>qua</td>\n",
       "      <td>2020</td>\n",
       "      <td>1942-12-20</td>\n",
       "      <td>dom</td>\n",
       "      <td>1942.0</td>\n",
       "      <td>77.0</td>\n",
       "      <td>77.0</td>\n",
       "    </tr>\n",
       "    <tr>\n",
       "      <th>3</th>\n",
       "      <td>1</td>\n",
       "      <td>2</td>\n",
       "      <td>25062020</td>\n",
       "      <td>2130.0</td>\n",
       "      <td>835.0</td>\n",
       "      <td>353860.0</td>\n",
       "      <td>20021955.0</td>\n",
       "      <td>465</td>\n",
       "      <td>65.0</td>\n",
       "      <td>NaN</td>\n",
       "      <td>...</td>\n",
       "      <td>-23.548,-46.636</td>\n",
       "      <td>-23.548,-46.636</td>\n",
       "      <td>2020-06-25</td>\n",
       "      <td>qui</td>\n",
       "      <td>2020</td>\n",
       "      <td>1955-02-20</td>\n",
       "      <td>dom</td>\n",
       "      <td>1955.0</td>\n",
       "      <td>65.0</td>\n",
       "      <td>65.0</td>\n",
       "    </tr>\n",
       "    <tr>\n",
       "      <th>4</th>\n",
       "      <td>1</td>\n",
       "      <td>2</td>\n",
       "      <td>21042020</td>\n",
       "      <td>732.0</td>\n",
       "      <td>800.0</td>\n",
       "      <td>NaN</td>\n",
       "      <td>8101960.0</td>\n",
       "      <td>459</td>\n",
       "      <td>59.0</td>\n",
       "      <td>NaN</td>\n",
       "      <td>...</td>\n",
       "      <td>-23.548,-46.636</td>\n",
       "      <td>-23.548,-46.636</td>\n",
       "      <td>2020-04-21</td>\n",
       "      <td>ter</td>\n",
       "      <td>2020</td>\n",
       "      <td>1960-10-08</td>\n",
       "      <td>sab</td>\n",
       "      <td>1960.0</td>\n",
       "      <td>59.0</td>\n",
       "      <td>59.0</td>\n",
       "    </tr>\n",
       "    <tr>\n",
       "      <th>...</th>\n",
       "      <td>...</td>\n",
       "      <td>...</td>\n",
       "      <td>...</td>\n",
       "      <td>...</td>\n",
       "      <td>...</td>\n",
       "      <td>...</td>\n",
       "      <td>...</td>\n",
       "      <td>...</td>\n",
       "      <td>...</td>\n",
       "      <td>...</td>\n",
       "      <td>...</td>\n",
       "      <td>...</td>\n",
       "      <td>...</td>\n",
       "      <td>...</td>\n",
       "      <td>...</td>\n",
       "      <td>...</td>\n",
       "      <td>...</td>\n",
       "      <td>...</td>\n",
       "      <td>...</td>\n",
       "      <td>...</td>\n",
       "      <td>...</td>\n",
       "    </tr>\n",
       "    <tr>\n",
       "      <th>349630</th>\n",
       "      <td>2</td>\n",
       "      <td>2</td>\n",
       "      <td>22062020</td>\n",
       "      <td>336.0</td>\n",
       "      <td>829.0</td>\n",
       "      <td>290323.0</td>\n",
       "      <td>15121941.0</td>\n",
       "      <td>478</td>\n",
       "      <td>78.0</td>\n",
       "      <td>NaN</td>\n",
       "      <td>...</td>\n",
       "      <td>-23.548,-46.636</td>\n",
       "      <td>-23.548,-46.636</td>\n",
       "      <td>2020-06-22</td>\n",
       "      <td>seg</td>\n",
       "      <td>2020</td>\n",
       "      <td>1941-12-15</td>\n",
       "      <td>seg</td>\n",
       "      <td>1941.0</td>\n",
       "      <td>78.0</td>\n",
       "      <td>78.0</td>\n",
       "    </tr>\n",
       "    <tr>\n",
       "      <th>349631</th>\n",
       "      <td>2</td>\n",
       "      <td>2</td>\n",
       "      <td>23042020</td>\n",
       "      <td>1815.0</td>\n",
       "      <td>831.0</td>\n",
       "      <td>313820.0</td>\n",
       "      <td>12081955.0</td>\n",
       "      <td>464</td>\n",
       "      <td>64.0</td>\n",
       "      <td>NaN</td>\n",
       "      <td>...</td>\n",
       "      <td>-23.548,-46.636</td>\n",
       "      <td>-23.548,-46.636</td>\n",
       "      <td>2020-04-23</td>\n",
       "      <td>qui</td>\n",
       "      <td>2020</td>\n",
       "      <td>1955-08-12</td>\n",
       "      <td>sex</td>\n",
       "      <td>1955.0</td>\n",
       "      <td>64.0</td>\n",
       "      <td>64.0</td>\n",
       "    </tr>\n",
       "    <tr>\n",
       "      <th>349632</th>\n",
       "      <td>2</td>\n",
       "      <td>2</td>\n",
       "      <td>23062020</td>\n",
       "      <td>2050.0</td>\n",
       "      <td>831.0</td>\n",
       "      <td>310860.0</td>\n",
       "      <td>12121965.0</td>\n",
       "      <td>454</td>\n",
       "      <td>54.0</td>\n",
       "      <td>NaN</td>\n",
       "      <td>...</td>\n",
       "      <td>-23.548,-46.636</td>\n",
       "      <td>-23.548,-46.636</td>\n",
       "      <td>2020-06-23</td>\n",
       "      <td>ter</td>\n",
       "      <td>2020</td>\n",
       "      <td>1965-12-12</td>\n",
       "      <td>dom</td>\n",
       "      <td>1965.0</td>\n",
       "      <td>54.0</td>\n",
       "      <td>54.0</td>\n",
       "    </tr>\n",
       "    <tr>\n",
       "      <th>349633</th>\n",
       "      <td>2</td>\n",
       "      <td>2</td>\n",
       "      <td>23062020</td>\n",
       "      <td>2055.0</td>\n",
       "      <td>825.0</td>\n",
       "      <td>250890.0</td>\n",
       "      <td>8081935.0</td>\n",
       "      <td>484</td>\n",
       "      <td>84.0</td>\n",
       "      <td>NaN</td>\n",
       "      <td>...</td>\n",
       "      <td>-23.548,-46.636</td>\n",
       "      <td>-23.548,-46.636</td>\n",
       "      <td>2020-06-23</td>\n",
       "      <td>ter</td>\n",
       "      <td>2020</td>\n",
       "      <td>1935-08-08</td>\n",
       "      <td>qui</td>\n",
       "      <td>1935.0</td>\n",
       "      <td>84.0</td>\n",
       "      <td>84.0</td>\n",
       "    </tr>\n",
       "    <tr>\n",
       "      <th>349634</th>\n",
       "      <td>2</td>\n",
       "      <td>2</td>\n",
       "      <td>24062020</td>\n",
       "      <td>32.0</td>\n",
       "      <td>835.0</td>\n",
       "      <td>352850.0</td>\n",
       "      <td>15081938.0</td>\n",
       "      <td>481</td>\n",
       "      <td>81.0</td>\n",
       "      <td>NaN</td>\n",
       "      <td>...</td>\n",
       "      <td>-23.548,-46.636</td>\n",
       "      <td>-23.548,-46.636</td>\n",
       "      <td>2020-06-24</td>\n",
       "      <td>qua</td>\n",
       "      <td>2020</td>\n",
       "      <td>1938-08-15</td>\n",
       "      <td>seg</td>\n",
       "      <td>1938.0</td>\n",
       "      <td>81.0</td>\n",
       "      <td>81.0</td>\n",
       "    </tr>\n",
       "  </tbody>\n",
       "</table>\n",
       "<p>349635 rows × 164 columns</p>\n",
       "</div>"
      ],
      "text/plain": [
       "        ORIGEM  TIPOBITO   DTOBITO  HORAOBITO  NATURAL  CODMUNNATU  \\\n",
       "0            1         2   5052020     1405.0    835.0    354850.0   \n",
       "1            1         2   5052020     1406.0    835.0    353760.0   \n",
       "2            1         2  27052020     2242.0    835.0    355030.0   \n",
       "3            1         2  25062020     2130.0    835.0    353860.0   \n",
       "4            1         2  21042020      732.0    800.0         NaN   \n",
       "...        ...       ...       ...        ...      ...         ...   \n",
       "349630       2         2  22062020      336.0    829.0    290323.0   \n",
       "349631       2         2  23042020     1815.0    831.0    313820.0   \n",
       "349632       2         2  23062020     2050.0    831.0    310860.0   \n",
       "349633       2         2  23062020     2055.0    825.0    250890.0   \n",
       "349634       2         2  24062020       32.0    835.0    352850.0   \n",
       "\n",
       "            DTNASC  IDADE  idade_obito_anos  idade_obito_meses  ...  \\\n",
       "0       12121941.0    478              78.0                NaN  ...   \n",
       "1       18111942.0    477              77.0                NaN  ...   \n",
       "2       20121942.0    477              77.0                NaN  ...   \n",
       "3       20021955.0    465              65.0                NaN  ...   \n",
       "4        8101960.0    459              59.0                NaN  ...   \n",
       "...            ...    ...               ...                ...  ...   \n",
       "349630  15121941.0    478              78.0                NaN  ...   \n",
       "349631  12081955.0    464              64.0                NaN  ...   \n",
       "349632  12121965.0    454              54.0                NaN  ...   \n",
       "349633   8081935.0    484              84.0                NaN  ...   \n",
       "349634  15081938.0    481              81.0                NaN  ...   \n",
       "\n",
       "        ocor_coordenadas  res_coordenadas  data_obito  dia_semana_obito  \\\n",
       "0        -23.993,-46.256  -23.993,-46.256  2020-05-05               ter   \n",
       "1        -23.993,-46.256  -23.993,-46.256  2020-05-05               ter   \n",
       "2        -23.548,-46.636  -23.548,-46.636  2020-05-27               qua   \n",
       "3        -23.548,-46.636  -23.548,-46.636  2020-06-25               qui   \n",
       "4        -23.548,-46.636  -23.548,-46.636  2020-04-21               ter   \n",
       "...                  ...              ...         ...               ...   \n",
       "349630   -23.548,-46.636  -23.548,-46.636  2020-06-22               seg   \n",
       "349631   -23.548,-46.636  -23.548,-46.636  2020-04-23               qui   \n",
       "349632   -23.548,-46.636  -23.548,-46.636  2020-06-23               ter   \n",
       "349633   -23.548,-46.636  -23.548,-46.636  2020-06-23               ter   \n",
       "349634   -23.548,-46.636  -23.548,-46.636  2020-06-24               qua   \n",
       "\n",
       "        ano_obito   data_nasc  dia_semana_nasc  ano_nasc  idade_obito  \\\n",
       "0            2020  1941-12-12              sex    1941.0         78.0   \n",
       "1            2020  1942-11-18              qua    1942.0         77.0   \n",
       "2            2020  1942-12-20              dom    1942.0         77.0   \n",
       "3            2020  1955-02-20              dom    1955.0         65.0   \n",
       "4            2020  1960-10-08              sab    1960.0         59.0   \n",
       "...           ...         ...              ...       ...          ...   \n",
       "349630       2020  1941-12-15              seg    1941.0         78.0   \n",
       "349631       2020  1955-08-12              sex    1955.0         64.0   \n",
       "349632       2020  1965-12-12              dom    1965.0         54.0   \n",
       "349633       2020  1935-08-08              qui    1935.0         84.0   \n",
       "349634       2020  1938-08-15              seg    1938.0         81.0   \n",
       "\n",
       "        idade_obito_calculado  \n",
       "0                        78.0  \n",
       "1                        77.0  \n",
       "2                        77.0  \n",
       "3                        65.0  \n",
       "4                        59.0  \n",
       "...                       ...  \n",
       "349630                   78.0  \n",
       "349631                   64.0  \n",
       "349632                   54.0  \n",
       "349633                   84.0  \n",
       "349634                   81.0  \n",
       "\n",
       "[349635 rows x 164 columns]"
      ]
     },
     "execution_count": 26,
     "metadata": {},
     "output_type": "execute_result"
    }
   ],
   "source": [
    "dfs[2020]"
   ]
  },
  {
   "cell_type": "code",
   "execution_count": 19,
   "metadata": {},
   "outputs": [
    {
     "data": {
      "text/plain": [
       "<AxesSubplot: xlabel='1998', ylabel='causabas_capitulo'>"
      ]
     },
     "execution_count": 19,
     "metadata": {},
     "output_type": "execute_result"
    },
    {
     "data": {
      "text/plain": [
       "<AxesSubplot: xlabel='2020', ylabel='causabas_capitulo'>"
      ]
     },
     "execution_count": 19,
     "metadata": {},
     "output_type": "execute_result"
    },
    {
     "data": {
      "text/plain": [
       "Text(0.5, 0, 'Contagem')"
      ]
     },
     "execution_count": 19,
     "metadata": {},
     "output_type": "execute_result"
    },
    {
     "data": {
      "text/plain": [
       "Text(0, 0.5, 'Capítulo da Causa de Morte')"
      ]
     },
     "execution_count": 19,
     "metadata": {},
     "output_type": "execute_result"
    },
    {
     "data": {
      "text/plain": [
       "<matplotlib.legend.Legend at 0x1d992010650>"
      ]
     },
     "execution_count": 19,
     "metadata": {},
     "output_type": "execute_result"
    },
    {
     "data": {
      "text/plain": [
       "Text(0.5, 1.0, 'Comparação das Contagens por Capítulo da Causa de Morte')"
      ]
     },
     "execution_count": 19,
     "metadata": {},
     "output_type": "execute_result"
    },
    {
     "data": {
      "image/png": "[encoded data removed]",
      "text/plain": [
       "<Figure size 640x480 with 1 Axes>"
      ]
     },
     "metadata": {},
     "output_type": "display_data"
    }
   ],
   "source": [
    "df_combined = pd.DataFrame({'2020': causas_morte_2020.values, '1998': causas_morte_1998.values}, index=causas_morte_df.index)\n",
    "# df_combined.plot(kind='barh', figsize=(10, 8))\n",
    "sns.barplot(data=df_combined, y=df_combined.index, x='1998', color='skyblue', label='1998')\n",
    "sns.barplot(data=df_combined, y=df_combined.index, x='2020', color='salmon', label='2020')\n",
    "\n",
    "plt.xlabel('Contagem')\n",
    "plt.ylabel('Capítulo da Causa de Morte')\n",
    "plt.legend()\n",
    "\n",
    "plt.title('Comparação das Contagens por Capítulo da Causa de Morte')\n",
    "\n",
    "plt.show()\n"
   ]
  },
  {
   "cell_type": "code",
   "execution_count": 10,
   "metadata": {},
   "outputs": [
    {
     "data": {
      "text/html": [
       "<div>\n",
       "<style scoped>\n",
       "    .dataframe tbody tr th:only-of-type {\n",
       "        vertical-align: middle;\n",
       "    }\n",
       "\n",
       "    .dataframe tbody tr th {\n",
       "        vertical-align: top;\n",
       "    }\n",
       "\n",
       "    .dataframe thead th {\n",
       "        text-align: right;\n",
       "    }\n",
       "</style>\n",
       "<table border=\"1\" class=\"dataframe\">\n",
       "  <thead>\n",
       "    <tr style=\"text-align: right;\">\n",
       "      <th></th>\n",
       "      <th>df</th>\n",
       "      <th>df2</th>\n",
       "    </tr>\n",
       "    <tr>\n",
       "      <th>causabas_capitulo</th>\n",
       "      <th></th>\n",
       "      <th></th>\n",
       "    </tr>\n",
       "  </thead>\n",
       "  <tbody>\n",
       "    <tr>\n",
       "      <th>I.   Algumas doenças infecciosas e parasitárias</th>\n",
       "      <td>14778</td>\n",
       "      <td>122869</td>\n",
       "    </tr>\n",
       "    <tr>\n",
       "      <th>II.  Neoplasias (tumores)</th>\n",
       "      <td>31507</td>\n",
       "      <td>58386</td>\n",
       "    </tr>\n",
       "    <tr>\n",
       "      <th>III. Doenças sangue órgãos hemat e transt imunitár</th>\n",
       "      <td>834</td>\n",
       "      <td>1500</td>\n",
       "    </tr>\n",
       "    <tr>\n",
       "      <th>IV.  Doenças endócrinas nutricionais e metabólicas</th>\n",
       "      <td>9577</td>\n",
       "      <td>19522</td>\n",
       "    </tr>\n",
       "    <tr>\n",
       "      <th>IX.  Doenças do aparelho circulatório</th>\n",
       "      <td>72450</td>\n",
       "      <td>93115</td>\n",
       "    </tr>\n",
       "    <tr>\n",
       "      <th>V.   Transtornos mentais e comportamentais</th>\n",
       "      <td>1495</td>\n",
       "      <td>3622</td>\n",
       "    </tr>\n",
       "    <tr>\n",
       "      <th>VI.  Doenças do sistema nervoso</th>\n",
       "      <td>2840</td>\n",
       "      <td>12440</td>\n",
       "    </tr>\n",
       "    <tr>\n",
       "      <th>VII. Doenças do olho e anexos</th>\n",
       "      <td>6</td>\n",
       "      <td>6</td>\n",
       "    </tr>\n",
       "    <tr>\n",
       "      <th>VIII.Doenças do ouvido e da apófise mastóide</th>\n",
       "      <td>17</td>\n",
       "      <td>36</td>\n",
       "    </tr>\n",
       "    <tr>\n",
       "      <th>X.   Doenças do aparelho respiratório</th>\n",
       "      <td>25720</td>\n",
       "      <td>36384</td>\n",
       "    </tr>\n",
       "    <tr>\n",
       "      <th>XI.  Doenças do aparelho digestivo</th>\n",
       "      <td>12314</td>\n",
       "      <td>18042</td>\n",
       "    </tr>\n",
       "    <tr>\n",
       "      <th>XII. Doenças da pele e do tecido subcutâneo</th>\n",
       "      <td>339</td>\n",
       "      <td>2065</td>\n",
       "    </tr>\n",
       "    <tr>\n",
       "      <th>XIII.Doenças sist osteomuscular e tec conjuntivo</th>\n",
       "      <td>719</td>\n",
       "      <td>1473</td>\n",
       "    </tr>\n",
       "    <tr>\n",
       "      <th>XIV. Doenças do aparelho geniturinário</th>\n",
       "      <td>3745</td>\n",
       "      <td>14087</td>\n",
       "    </tr>\n",
       "    <tr>\n",
       "      <th>XV.  Gravidez parto e puerpério</th>\n",
       "      <td>289</td>\n",
       "      <td>526</td>\n",
       "    </tr>\n",
       "    <tr>\n",
       "      <th>XVI. Algumas afec originadas no período perinatal</th>\n",
       "      <td>8910</td>\n",
       "      <td>3199</td>\n",
       "    </tr>\n",
       "    <tr>\n",
       "      <th>XVII.Malf cong deformid e anomalias cromossômicas</th>\n",
       "      <td>2509</td>\n",
       "      <td>1844</td>\n",
       "    </tr>\n",
       "    <tr>\n",
       "      <th>XVIII.Sint sinais e achad anorm ex clín e laborat</th>\n",
       "      <td>14223</td>\n",
       "      <td>19397</td>\n",
       "    </tr>\n",
       "    <tr>\n",
       "      <th>XX.  Causas externas de morbidade e mortalidade</th>\n",
       "      <td>33137</td>\n",
       "      <td>23103</td>\n",
       "    </tr>\n",
       "  </tbody>\n",
       "</table>\n",
       "</div>"
      ],
      "text/plain": [
       "                                                       df     df2\n",
       "causabas_capitulo                                                \n",
       "I.   Algumas doenças infecciosas e parasitárias     14778  122869\n",
       "II.  Neoplasias (tumores)                           31507   58386\n",
       "III. Doenças sangue órgãos hemat e transt imunitár    834    1500\n",
       "IV.  Doenças endócrinas nutricionais e metabólicas   9577   19522\n",
       "IX.  Doenças do aparelho circulatório               72450   93115\n",
       "V.   Transtornos mentais e comportamentais           1495    3622\n",
       "VI.  Doenças do sistema nervoso                      2840   12440\n",
       "VII. Doenças do olho e anexos                           6       6\n",
       "VIII.Doenças do ouvido e da apófise mastóide           17      36\n",
       "X.   Doenças do aparelho respiratório               25720   36384\n",
       "XI.  Doenças do aparelho digestivo                  12314   18042\n",
       "XII. Doenças da pele e do tecido subcutâneo           339    2065\n",
       "XIII.Doenças sist osteomuscular e tec conjuntivo      719    1473\n",
       "XIV. Doenças do aparelho geniturinário               3745   14087\n",
       "XV.  Gravidez parto e puerpério                       289     526\n",
       "XVI. Algumas afec originadas no período perinatal    8910    3199\n",
       "XVII.Malf cong deformid e anomalias cromossômicas    2509    1844\n",
       "XVIII.Sint sinais e achad anorm ex clín e laborat   14223   19397\n",
       "XX.  Causas externas de morbidade e mortalidade     33137   23103"
      ]
     },
     "execution_count": 10,
     "metadata": {},
     "output_type": "execute_result"
    }
   ],
   "source": [
    "df_combined"
   ]
  },
  {
   "cell_type": "code",
   "execution_count": null,
   "metadata": {},
   "outputs": [],
   "source": []
  }
 ],
 "metadata": {
  "kernelspec": {
   "display_name": "pantanal-deforestation",
   "language": "python",
   "name": "python3"
  },
  "language_info": {
   "codemirror_mode": {
    "name": "ipython",
    "version": 3
   },
   "file_extension": ".py",
   "mimetype": "text/x-python",
   "name": "python",
   "nbconvert_exporter": "python",
   "pygments_lexer": "ipython3",
   "version": "3.11.0"
  },
  "orig_nbformat": 4
 },
 "nbformat": 4,
 "nbformat_minor": 2
}

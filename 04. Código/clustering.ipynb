{
 "cells": [
  {
   "cell_type": "code",
   "execution_count": 1,
   "metadata": {},
   "outputs": [],
   "source": [
    "import pandas as pd\n",
    "import seaborn as sns\n",
    "import matplotlib.pyplot as plt\n",
    "import seaborn.objects as so\n",
    "\n",
    "from IPython.core.interactiveshell import InteractiveShell\n",
    "InteractiveShell.ast_node_interactivity = \"all\""
   ]
  },
  {
   "cell_type": "code",
   "execution_count": 2,
   "metadata": {},
   "outputs": [],
   "source": [
    "import os\n",
    "mycwd = os.getcwd()\n",
    "os.chdir(\"..\")\n",
    "os.chdir(mycwd)    "
   ]
  },
  {
   "cell_type": "code",
   "execution_count": 3,
   "metadata": {},
   "outputs": [],
   "source": [
    "start_year = 1996\n",
    "end_year = 2021\n",
    "years = [year for year in range(start_year, end_year + 1)]"
   ]
  },
  {
   "cell_type": "code",
   "execution_count": 4,
   "metadata": {},
   "outputs": [
    {
     "name": "stderr",
     "output_type": "stream",
     "text": [
      "C:\\Users\\filip\\AppData\\Local\\Temp\\ipykernel_19584\\794806283.py:4: DtypeWarning: Columns (3,33) have mixed types. Specify dtype option on import or set low_memory=False.\n",
      "  dfs[year] = pd.read_csv(f'../ETLSIM/ETLSIM.DORES_SP_{year}_t.csv')\n",
      "C:\\Users\\filip\\AppData\\Local\\Temp\\ipykernel_19584\\794806283.py:4: DtypeWarning: Columns (3) have mixed types. Specify dtype option on import or set low_memory=False.\n",
      "  dfs[year] = pd.read_csv(f'../ETLSIM/ETLSIM.DORES_SP_{year}_t.csv')\n",
      "C:\\Users\\filip\\AppData\\Local\\Temp\\ipykernel_19584\\794806283.py:4: DtypeWarning: Columns (3) have mixed types. Specify dtype option on import or set low_memory=False.\n",
      "  dfs[year] = pd.read_csv(f'../ETLSIM/ETLSIM.DORES_SP_{year}_t.csv')\n",
      "C:\\Users\\filip\\AppData\\Local\\Temp\\ipykernel_19584\\794806283.py:4: DtypeWarning: Columns (3) have mixed types. Specify dtype option on import or set low_memory=False.\n",
      "  dfs[year] = pd.read_csv(f'../ETLSIM/ETLSIM.DORES_SP_{year}_t.csv')\n",
      "C:\\Users\\filip\\AppData\\Local\\Temp\\ipykernel_19584\\794806283.py:4: DtypeWarning: Columns (4) have mixed types. Specify dtype option on import or set low_memory=False.\n",
      "  dfs[year] = pd.read_csv(f'../ETLSIM/ETLSIM.DORES_SP_{year}_t.csv')\n",
      "C:\\Users\\filip\\AppData\\Local\\Temp\\ipykernel_19584\\794806283.py:4: DtypeWarning: Columns (59) have mixed types. Specify dtype option on import or set low_memory=False.\n",
      "  dfs[year] = pd.read_csv(f'../ETLSIM/ETLSIM.DORES_SP_{year}_t.csv')\n",
      "C:\\Users\\filip\\AppData\\Local\\Temp\\ipykernel_19584\\794806283.py:4: DtypeWarning: Columns (67) have mixed types. Specify dtype option on import or set low_memory=False.\n",
      "  dfs[year] = pd.read_csv(f'../ETLSIM/ETLSIM.DORES_SP_{year}_t.csv')\n",
      "C:\\Users\\filip\\AppData\\Local\\Temp\\ipykernel_19584\\794806283.py:4: DtypeWarning: Columns (4,24,53,73) have mixed types. Specify dtype option on import or set low_memory=False.\n",
      "  dfs[year] = pd.read_csv(f'../ETLSIM/ETLSIM.DORES_SP_{year}_t.csv')\n",
      "C:\\Users\\filip\\AppData\\Local\\Temp\\ipykernel_19584\\794806283.py:4: DtypeWarning: Columns (24,53,73) have mixed types. Specify dtype option on import or set low_memory=False.\n",
      "  dfs[year] = pd.read_csv(f'../ETLSIM/ETLSIM.DORES_SP_{year}_t.csv')\n",
      "C:\\Users\\filip\\AppData\\Local\\Temp\\ipykernel_19584\\794806283.py:4: DtypeWarning: Columns (73) have mixed types. Specify dtype option on import or set low_memory=False.\n",
      "  dfs[year] = pd.read_csv(f'../ETLSIM/ETLSIM.DORES_SP_{year}_t.csv')\n",
      "C:\\Users\\filip\\AppData\\Local\\Temp\\ipykernel_19584\\794806283.py:4: DtypeWarning: Columns (73) have mixed types. Specify dtype option on import or set low_memory=False.\n",
      "  dfs[year] = pd.read_csv(f'../ETLSIM/ETLSIM.DORES_SP_{year}_t.csv')\n",
      "C:\\Users\\filip\\AppData\\Local\\Temp\\ipykernel_19584\\794806283.py:4: DtypeWarning: Columns (72) have mixed types. Specify dtype option on import or set low_memory=False.\n",
      "  dfs[year] = pd.read_csv(f'../ETLSIM/ETLSIM.DORES_SP_{year}_t.csv')\n",
      "C:\\Users\\filip\\AppData\\Local\\Temp\\ipykernel_19584\\794806283.py:4: DtypeWarning: Columns (71) have mixed types. Specify dtype option on import or set low_memory=False.\n",
      "  dfs[year] = pd.read_csv(f'../ETLSIM/ETLSIM.DORES_SP_{year}_t.csv')\n",
      "C:\\Users\\filip\\AppData\\Local\\Temp\\ipykernel_19584\\794806283.py:4: DtypeWarning: Columns (71,84) have mixed types. Specify dtype option on import or set low_memory=False.\n",
      "  dfs[year] = pd.read_csv(f'../ETLSIM/ETLSIM.DORES_SP_{year}_t.csv')\n",
      "C:\\Users\\filip\\AppData\\Local\\Temp\\ipykernel_19584\\794806283.py:4: DtypeWarning: Columns (71) have mixed types. Specify dtype option on import or set low_memory=False.\n",
      "  dfs[year] = pd.read_csv(f'../ETLSIM/ETLSIM.DORES_SP_{year}_t.csv')\n"
     ]
    }
   ],
   "source": [
    "dfs = {}\n",
    "\n",
    "for year in years:\n",
    "    dfs[year] = pd.read_csv(f'../ETLSIM/ETLSIM.DORES_SP_{year}_t.csv')"
   ]
  },
  {
   "cell_type": "code",
   "execution_count": 19,
   "metadata": {},
   "outputs": [],
   "source": [
    "df = pd.concat(dfs.values(), ignore_index=True)\n",
    "del dfs"
   ]
  },
  {
   "cell_type": "code",
   "execution_count": 24,
   "metadata": {},
   "outputs": [
    {
     "data": {
      "text/plain": [
       "array([1.00000e+00, 2.00000e+00, 3.00000e+00, ..., 2.43983e+05,\n",
       "       2.43984e+05,         nan])"
      ]
     },
     "execution_count": 24,
     "metadata": {},
     "output_type": "execute_result"
    }
   ],
   "source": [
    "df.contador.unique()"
   ]
  },
  {
   "cell_type": "code",
   "execution_count": 25,
   "metadata": {},
   "outputs": [
    {
     "data": {
      "text/plain": [
       "(6993473, 176)"
      ]
     },
     "execution_count": 25,
     "metadata": {},
     "output_type": "execute_result"
    }
   ],
   "source": [
    "df.shape"
   ]
  },
  {
   "cell_type": "code",
   "execution_count": null,
   "metadata": {},
   "outputs": [],
   "source": []
  }
 ],
 "metadata": {
  "kernelspec": {
   "display_name": "Python 3",
   "language": "python",
   "name": "python3"
  },
  "language_info": {
   "codemirror_mode": {
    "name": "ipython",
    "version": 3
   },
   "file_extension": ".py",
   "mimetype": "text/x-python",
   "name": "python",
   "nbconvert_exporter": "python",
   "pygments_lexer": "ipython3",
   "version": "3.11.0"
  },
  "orig_nbformat": 4
 },
 "nbformat": 4,
 "nbformat_minor": 2
}
